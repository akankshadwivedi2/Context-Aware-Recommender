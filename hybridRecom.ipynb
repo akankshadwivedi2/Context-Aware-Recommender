{
 "cells": [
  {
   "cell_type": "code",
   "execution_count": 8,
   "outputs": [
    {
     "name": "stdout",
     "output_type": "stream",
     "text": [
      "Import Success\n"
     ]
    }
   ],
   "source": [
    "import numpy as np\n",
    "import pandas as pd\n",
    "from sklearn.feature_extraction.text import TfidfVectorizer\n",
    "from sklearn.metrics.pairwise import linear_kernel\n",
    "from surprise import Reader, Dataset, SVD\n",
    "from surprise.model_selection import KFold\n",
    "from surprise.model_selection.validation import cross_validate\n",
    "\n",
    "print(\"Import Success\")"
   ],
   "metadata": {
    "collapsed": false,
    "pycharm": {
     "name": "#%% Import File\n"
    }
   }
  },
  {
   "cell_type": "code",
   "execution_count": 9,
   "outputs": [
    {
     "name": "stderr",
     "output_type": "stream",
     "text": [
      "/usr/local/Caskroom/miniconda/base/envs/contextualRecommender/lib/python3.8/site-packages/IPython/core/interactiveshell.py:3145: DtypeWarning: Columns (10) have mixed types.Specify dtype option on import or set low_memory=False.\n",
      "  has_raised = await self.run_ast_nodes(code_ast.body, cell_name,\n"
     ]
    },
    {
     "data": {
      "text/plain": "   adult                              belongs_to_collection    budget  \\\n0  False  {'id': 10194, 'name': 'Toy Story Collection', ...  30000000   \n1  False                                                NaN  65000000   \n2  False  {'id': 119050, 'name': 'Grumpy Old Men Collect...         0   \n3  False                                                NaN  16000000   \n4  False  {'id': 96871, 'name': 'Father of the Bride Col...         0   \n\n                                              genres  \\\n0  [{'id': 16, 'name': 'Animation'}, {'id': 35, '...   \n1  [{'id': 12, 'name': 'Adventure'}, {'id': 14, '...   \n2  [{'id': 10749, 'name': 'Romance'}, {'id': 35, ...   \n3  [{'id': 35, 'name': 'Comedy'}, {'id': 18, 'nam...   \n4                     [{'id': 35, 'name': 'Comedy'}]   \n\n                               homepage     id    imdb_id original_language  \\\n0  http://toystory.disney.com/toy-story    862  tt0114709                en   \n1                                   NaN   8844  tt0113497                en   \n2                                   NaN  15602  tt0113228                en   \n3                                   NaN  31357  tt0114885                en   \n4                                   NaN  11862  tt0113041                en   \n\n                original_title  \\\n0                    Toy Story   \n1                      Jumanji   \n2             Grumpier Old Men   \n3            Waiting to Exhale   \n4  Father of the Bride Part II   \n\n                                            overview  ... release_date  \\\n0  Led by Woody, Andy's toys live happily in his ...  ...   1995-10-30   \n1  When siblings Judy and Peter discover an encha...  ...   1995-12-15   \n2  A family wedding reignites the ancient feud be...  ...   1995-12-22   \n3  Cheated on, mistreated and stepped on, the wom...  ...   1995-12-22   \n4  Just when George Banks has recovered from his ...  ...   1995-02-10   \n\n       revenue runtime                                   spoken_languages  \\\n0  373554033.0    81.0           [{'iso_639_1': 'en', 'name': 'English'}]   \n1  262797249.0   104.0  [{'iso_639_1': 'en', 'name': 'English'}, {'iso...   \n2          0.0   101.0           [{'iso_639_1': 'en', 'name': 'English'}]   \n3   81452156.0   127.0           [{'iso_639_1': 'en', 'name': 'English'}]   \n4   76578911.0   106.0           [{'iso_639_1': 'en', 'name': 'English'}]   \n\n     status                                            tagline  \\\n0  Released                                                NaN   \n1  Released          Roll the dice and unleash the excitement!   \n2  Released  Still Yelling. Still Fighting. Still Ready for...   \n3  Released  Friends are the people who let you be yourself...   \n4  Released  Just When His World Is Back To Normal... He's ...   \n\n                         title  video vote_average vote_count  \n0                    Toy Story  False          7.7     5415.0  \n1                      Jumanji  False          6.9     2413.0  \n2             Grumpier Old Men  False          6.5       92.0  \n3            Waiting to Exhale  False          6.1       34.0  \n4  Father of the Bride Part II  False          5.7      173.0  \n\n[5 rows x 24 columns]",
      "text/html": "<div>\n<style scoped>\n    .dataframe tbody tr th:only-of-type {\n        vertical-align: middle;\n    }\n\n    .dataframe tbody tr th {\n        vertical-align: top;\n    }\n\n    .dataframe thead th {\n        text-align: right;\n    }\n</style>\n<table border=\"1\" class=\"dataframe\">\n  <thead>\n    <tr style=\"text-align: right;\">\n      <th></th>\n      <th>adult</th>\n      <th>belongs_to_collection</th>\n      <th>budget</th>\n      <th>genres</th>\n      <th>homepage</th>\n      <th>id</th>\n      <th>imdb_id</th>\n      <th>original_language</th>\n      <th>original_title</th>\n      <th>overview</th>\n      <th>...</th>\n      <th>release_date</th>\n      <th>revenue</th>\n      <th>runtime</th>\n      <th>spoken_languages</th>\n      <th>status</th>\n      <th>tagline</th>\n      <th>title</th>\n      <th>video</th>\n      <th>vote_average</th>\n      <th>vote_count</th>\n    </tr>\n  </thead>\n  <tbody>\n    <tr>\n      <th>0</th>\n      <td>False</td>\n      <td>{'id': 10194, 'name': 'Toy Story Collection', ...</td>\n      <td>30000000</td>\n      <td>[{'id': 16, 'name': 'Animation'}, {'id': 35, '...</td>\n      <td>http://toystory.disney.com/toy-story</td>\n      <td>862</td>\n      <td>tt0114709</td>\n      <td>en</td>\n      <td>Toy Story</td>\n      <td>Led by Woody, Andy's toys live happily in his ...</td>\n      <td>...</td>\n      <td>1995-10-30</td>\n      <td>373554033.0</td>\n      <td>81.0</td>\n      <td>[{'iso_639_1': 'en', 'name': 'English'}]</td>\n      <td>Released</td>\n      <td>NaN</td>\n      <td>Toy Story</td>\n      <td>False</td>\n      <td>7.7</td>\n      <td>5415.0</td>\n    </tr>\n    <tr>\n      <th>1</th>\n      <td>False</td>\n      <td>NaN</td>\n      <td>65000000</td>\n      <td>[{'id': 12, 'name': 'Adventure'}, {'id': 14, '...</td>\n      <td>NaN</td>\n      <td>8844</td>\n      <td>tt0113497</td>\n      <td>en</td>\n      <td>Jumanji</td>\n      <td>When siblings Judy and Peter discover an encha...</td>\n      <td>...</td>\n      <td>1995-12-15</td>\n      <td>262797249.0</td>\n      <td>104.0</td>\n      <td>[{'iso_639_1': 'en', 'name': 'English'}, {'iso...</td>\n      <td>Released</td>\n      <td>Roll the dice and unleash the excitement!</td>\n      <td>Jumanji</td>\n      <td>False</td>\n      <td>6.9</td>\n      <td>2413.0</td>\n    </tr>\n    <tr>\n      <th>2</th>\n      <td>False</td>\n      <td>{'id': 119050, 'name': 'Grumpy Old Men Collect...</td>\n      <td>0</td>\n      <td>[{'id': 10749, 'name': 'Romance'}, {'id': 35, ...</td>\n      <td>NaN</td>\n      <td>15602</td>\n      <td>tt0113228</td>\n      <td>en</td>\n      <td>Grumpier Old Men</td>\n      <td>A family wedding reignites the ancient feud be...</td>\n      <td>...</td>\n      <td>1995-12-22</td>\n      <td>0.0</td>\n      <td>101.0</td>\n      <td>[{'iso_639_1': 'en', 'name': 'English'}]</td>\n      <td>Released</td>\n      <td>Still Yelling. Still Fighting. Still Ready for...</td>\n      <td>Grumpier Old Men</td>\n      <td>False</td>\n      <td>6.5</td>\n      <td>92.0</td>\n    </tr>\n    <tr>\n      <th>3</th>\n      <td>False</td>\n      <td>NaN</td>\n      <td>16000000</td>\n      <td>[{'id': 35, 'name': 'Comedy'}, {'id': 18, 'nam...</td>\n      <td>NaN</td>\n      <td>31357</td>\n      <td>tt0114885</td>\n      <td>en</td>\n      <td>Waiting to Exhale</td>\n      <td>Cheated on, mistreated and stepped on, the wom...</td>\n      <td>...</td>\n      <td>1995-12-22</td>\n      <td>81452156.0</td>\n      <td>127.0</td>\n      <td>[{'iso_639_1': 'en', 'name': 'English'}]</td>\n      <td>Released</td>\n      <td>Friends are the people who let you be yourself...</td>\n      <td>Waiting to Exhale</td>\n      <td>False</td>\n      <td>6.1</td>\n      <td>34.0</td>\n    </tr>\n    <tr>\n      <th>4</th>\n      <td>False</td>\n      <td>{'id': 96871, 'name': 'Father of the Bride Col...</td>\n      <td>0</td>\n      <td>[{'id': 35, 'name': 'Comedy'}]</td>\n      <td>NaN</td>\n      <td>11862</td>\n      <td>tt0113041</td>\n      <td>en</td>\n      <td>Father of the Bride Part II</td>\n      <td>Just when George Banks has recovered from his ...</td>\n      <td>...</td>\n      <td>1995-02-10</td>\n      <td>76578911.0</td>\n      <td>106.0</td>\n      <td>[{'iso_639_1': 'en', 'name': 'English'}]</td>\n      <td>Released</td>\n      <td>Just When His World Is Back To Normal... He's ...</td>\n      <td>Father of the Bride Part II</td>\n      <td>False</td>\n      <td>5.7</td>\n      <td>173.0</td>\n    </tr>\n  </tbody>\n</table>\n<p>5 rows × 24 columns</p>\n</div>"
     },
     "execution_count": 9,
     "metadata": {},
     "output_type": "execute_result"
    }
   ],
   "source": [
    "# The main Movies Metadata file\n",
    "meta = pd.read_csv('Dataset/movies_metadata.csv')\n",
    "meta.head()"
   ],
   "metadata": {
    "collapsed": false,
    "pycharm": {
     "name": "#%%\n"
    }
   }
  },
  {
   "cell_type": "code",
   "execution_count": 10,
   "outputs": [
    {
     "data": {
      "text/plain": "   userId  movieId  rating   timestamp\n0       1       31     2.5  1260759144\n1       1     1029     3.0  1260759179\n2       1     1061     3.0  1260759182\n3       1     1129     2.0  1260759185\n4       1     1172     4.0  1260759205",
      "text/html": "<div>\n<style scoped>\n    .dataframe tbody tr th:only-of-type {\n        vertical-align: middle;\n    }\n\n    .dataframe tbody tr th {\n        vertical-align: top;\n    }\n\n    .dataframe thead th {\n        text-align: right;\n    }\n</style>\n<table border=\"1\" class=\"dataframe\">\n  <thead>\n    <tr style=\"text-align: right;\">\n      <th></th>\n      <th>userId</th>\n      <th>movieId</th>\n      <th>rating</th>\n      <th>timestamp</th>\n    </tr>\n  </thead>\n  <tbody>\n    <tr>\n      <th>0</th>\n      <td>1</td>\n      <td>31</td>\n      <td>2.5</td>\n      <td>1260759144</td>\n    </tr>\n    <tr>\n      <th>1</th>\n      <td>1</td>\n      <td>1029</td>\n      <td>3.0</td>\n      <td>1260759179</td>\n    </tr>\n    <tr>\n      <th>2</th>\n      <td>1</td>\n      <td>1061</td>\n      <td>3.0</td>\n      <td>1260759182</td>\n    </tr>\n    <tr>\n      <th>3</th>\n      <td>1</td>\n      <td>1129</td>\n      <td>2.0</td>\n      <td>1260759185</td>\n    </tr>\n    <tr>\n      <th>4</th>\n      <td>1</td>\n      <td>1172</td>\n      <td>4.0</td>\n      <td>1260759205</td>\n    </tr>\n  </tbody>\n</table>\n</div>"
     },
     "execution_count": 10,
     "metadata": {},
     "output_type": "execute_result"
    }
   ],
   "source": [
    "# Rating\n",
    "ratings = pd.read_csv('Dataset/ratings_small.csv')\n",
    "ratings.head() # Movies in this dataset are rated out of 5 instead of 10"
   ],
   "metadata": {
    "collapsed": false,
    "pycharm": {
     "name": "#%%\n"
    }
   }
  },
  {
   "cell_type": "code",
   "execution_count": 11,
   "outputs": [
    {
     "data": {
      "text/plain": "   movieId  imdbId   tmdbId\n0        1  114709    862.0\n1        2  113497   8844.0\n2        3  113228  15602.0\n3        4  114885  31357.0\n4        5  113041  11862.0",
      "text/html": "<div>\n<style scoped>\n    .dataframe tbody tr th:only-of-type {\n        vertical-align: middle;\n    }\n\n    .dataframe tbody tr th {\n        vertical-align: top;\n    }\n\n    .dataframe thead th {\n        text-align: right;\n    }\n</style>\n<table border=\"1\" class=\"dataframe\">\n  <thead>\n    <tr style=\"text-align: right;\">\n      <th></th>\n      <th>movieId</th>\n      <th>imdbId</th>\n      <th>tmdbId</th>\n    </tr>\n  </thead>\n  <tbody>\n    <tr>\n      <th>0</th>\n      <td>1</td>\n      <td>114709</td>\n      <td>862.0</td>\n    </tr>\n    <tr>\n      <th>1</th>\n      <td>2</td>\n      <td>113497</td>\n      <td>8844.0</td>\n    </tr>\n    <tr>\n      <th>2</th>\n      <td>3</td>\n      <td>113228</td>\n      <td>15602.0</td>\n    </tr>\n    <tr>\n      <th>3</th>\n      <td>4</td>\n      <td>114885</td>\n      <td>31357.0</td>\n    </tr>\n    <tr>\n      <th>4</th>\n      <td>5</td>\n      <td>113041</td>\n      <td>11862.0</td>\n    </tr>\n  </tbody>\n</table>\n</div>"
     },
     "execution_count": 11,
     "metadata": {},
     "output_type": "execute_result"
    }
   ],
   "source": [
    "#Links of IMDb and TMDb\n",
    "links = pd.read_csv('Dataset/links_small.csv')\n",
    "links.head()"
   ],
   "metadata": {
    "collapsed": false,
    "pycharm": {
     "name": "#%%\n"
    }
   }
  },
  {
   "cell_type": "code",
   "execution_count": 12,
   "outputs": [
    {
     "data": {
      "text/plain": "      id                                           keywords\n0    862  [{'id': 931, 'name': 'jealousy'}, {'id': 4290,...\n1   8844  [{'id': 10090, 'name': 'board game'}, {'id': 1...\n2  15602  [{'id': 1495, 'name': 'fishing'}, {'id': 12392...\n3  31357  [{'id': 818, 'name': 'based on novel'}, {'id':...\n4  11862  [{'id': 1009, 'name': 'baby'}, {'id': 1599, 'n...",
      "text/html": "<div>\n<style scoped>\n    .dataframe tbody tr th:only-of-type {\n        vertical-align: middle;\n    }\n\n    .dataframe tbody tr th {\n        vertical-align: top;\n    }\n\n    .dataframe thead th {\n        text-align: right;\n    }\n</style>\n<table border=\"1\" class=\"dataframe\">\n  <thead>\n    <tr style=\"text-align: right;\">\n      <th></th>\n      <th>id</th>\n      <th>keywords</th>\n    </tr>\n  </thead>\n  <tbody>\n    <tr>\n      <th>0</th>\n      <td>862</td>\n      <td>[{'id': 931, 'name': 'jealousy'}, {'id': 4290,...</td>\n    </tr>\n    <tr>\n      <th>1</th>\n      <td>8844</td>\n      <td>[{'id': 10090, 'name': 'board game'}, {'id': 1...</td>\n    </tr>\n    <tr>\n      <th>2</th>\n      <td>15602</td>\n      <td>[{'id': 1495, 'name': 'fishing'}, {'id': 12392...</td>\n    </tr>\n    <tr>\n      <th>3</th>\n      <td>31357</td>\n      <td>[{'id': 818, 'name': 'based on novel'}, {'id':...</td>\n    </tr>\n    <tr>\n      <th>4</th>\n      <td>11862</td>\n      <td>[{'id': 1009, 'name': 'baby'}, {'id': 1599, 'n...</td>\n    </tr>\n  </tbody>\n</table>\n</div>"
     },
     "execution_count": 12,
     "metadata": {},
     "output_type": "execute_result"
    }
   ],
   "source": [
    "keywords = pd.read_csv('Dataset/keywords.csv')\n",
    "keywords.head()"
   ],
   "metadata": {
    "collapsed": false,
    "pycharm": {
     "name": "#%%\n"
    }
   }
  },
  {
   "cell_type": "code",
   "execution_count": 13,
   "outputs": [
    {
     "data": {
      "text/plain": "0    Led by Woody, Andy's toys live happily in his ...\n1    When siblings Judy and Peter discover an encha...\n2    A family wedding reignites the ancient feud be...\n3    Cheated on, mistreated and stepped on, the wom...\n4    Just when George Banks has recovered from his ...\nName: overview, dtype: object"
     },
     "execution_count": 13,
     "metadata": {},
     "output_type": "execute_result"
    }
   ],
   "source": [
    "# -- Content-focused recommender --\n",
    "\n",
    "meta['overview'] = meta['overview'].fillna('')\n",
    "meta['overview'].head() # Sample descriptions"
   ],
   "metadata": {
    "collapsed": false,
    "pycharm": {
     "name": "#%%\n"
    }
   }
  },
  {
   "cell_type": "code",
   "execution_count": 14,
   "outputs": [
    {
     "data": {
      "text/plain": "                  feature    dtype\n0                   adult   object\n1   belongs_to_collection   object\n2                  budget   object\n3                  genres   object\n4                homepage   object\n5                      id   object\n6                 imdb_id   object\n7       original_language   object\n8          original_title   object\n9                overview   object\n10             popularity   object\n11            poster_path   object\n12   production_companies   object\n13   production_countries   object\n14           release_date   object\n15                revenue  float64\n16                runtime  float64\n17       spoken_languages   object\n18                 status   object\n19                tagline   object\n20                  title   object\n21                  video   object\n22           vote_average  float64\n23             vote_count  float64",
      "text/html": "<div>\n<style scoped>\n    .dataframe tbody tr th:only-of-type {\n        vertical-align: middle;\n    }\n\n    .dataframe tbody tr th {\n        vertical-align: top;\n    }\n\n    .dataframe thead th {\n        text-align: right;\n    }\n</style>\n<table border=\"1\" class=\"dataframe\">\n  <thead>\n    <tr style=\"text-align: right;\">\n      <th></th>\n      <th>feature</th>\n      <th>dtype</th>\n    </tr>\n  </thead>\n  <tbody>\n    <tr>\n      <th>0</th>\n      <td>adult</td>\n      <td>object</td>\n    </tr>\n    <tr>\n      <th>1</th>\n      <td>belongs_to_collection</td>\n      <td>object</td>\n    </tr>\n    <tr>\n      <th>2</th>\n      <td>budget</td>\n      <td>object</td>\n    </tr>\n    <tr>\n      <th>3</th>\n      <td>genres</td>\n      <td>object</td>\n    </tr>\n    <tr>\n      <th>4</th>\n      <td>homepage</td>\n      <td>object</td>\n    </tr>\n    <tr>\n      <th>5</th>\n      <td>id</td>\n      <td>object</td>\n    </tr>\n    <tr>\n      <th>6</th>\n      <td>imdb_id</td>\n      <td>object</td>\n    </tr>\n    <tr>\n      <th>7</th>\n      <td>original_language</td>\n      <td>object</td>\n    </tr>\n    <tr>\n      <th>8</th>\n      <td>original_title</td>\n      <td>object</td>\n    </tr>\n    <tr>\n      <th>9</th>\n      <td>overview</td>\n      <td>object</td>\n    </tr>\n    <tr>\n      <th>10</th>\n      <td>popularity</td>\n      <td>object</td>\n    </tr>\n    <tr>\n      <th>11</th>\n      <td>poster_path</td>\n      <td>object</td>\n    </tr>\n    <tr>\n      <th>12</th>\n      <td>production_companies</td>\n      <td>object</td>\n    </tr>\n    <tr>\n      <th>13</th>\n      <td>production_countries</td>\n      <td>object</td>\n    </tr>\n    <tr>\n      <th>14</th>\n      <td>release_date</td>\n      <td>object</td>\n    </tr>\n    <tr>\n      <th>15</th>\n      <td>revenue</td>\n      <td>float64</td>\n    </tr>\n    <tr>\n      <th>16</th>\n      <td>runtime</td>\n      <td>float64</td>\n    </tr>\n    <tr>\n      <th>17</th>\n      <td>spoken_languages</td>\n      <td>object</td>\n    </tr>\n    <tr>\n      <th>18</th>\n      <td>status</td>\n      <td>object</td>\n    </tr>\n    <tr>\n      <th>19</th>\n      <td>tagline</td>\n      <td>object</td>\n    </tr>\n    <tr>\n      <th>20</th>\n      <td>title</td>\n      <td>object</td>\n    </tr>\n    <tr>\n      <th>21</th>\n      <td>video</td>\n      <td>object</td>\n    </tr>\n    <tr>\n      <th>22</th>\n      <td>vote_average</td>\n      <td>float64</td>\n    </tr>\n    <tr>\n      <th>23</th>\n      <td>vote_count</td>\n      <td>float64</td>\n    </tr>\n  </tbody>\n</table>\n</div>"
     },
     "execution_count": 14,
     "metadata": {},
     "output_type": "execute_result"
    }
   ],
   "source": [
    "# Check the datatype of \"id\" in movies_metadata.csv\n",
    "pd.DataFrame({'feature':meta.dtypes.index, 'dtype':meta.dtypes.values})"
   ],
   "metadata": {
    "collapsed": false,
    "pycharm": {
     "name": "#%%\n"
    }
   }
  },
  {
   "cell_type": "code",
   "execution_count": 15,
   "outputs": [],
   "source": [
    "meta = meta.drop([19730, 29503, 35587]) # Remove these ids to solve ValueError: \"Unable to parse string...\"\n",
    "\n",
    "# Convert object to int64 for compatibility during merging\n",
    "meta['id'] = pd.to_numeric(meta['id'])\n",
    "\n",
    "# Run  the following code for converting more than one value to integer\n",
    "# def convert_int(x):\n",
    "#     try:\n",
    "#         return int(x)\n",
    "#     except:\n",
    "#         return np.nan"
   ],
   "metadata": {
    "collapsed": false,
    "pycharm": {
     "name": "#%%\n"
    }
   }
  },
  {
   "cell_type": "code",
   "execution_count": 16,
   "outputs": [
    {
     "data": {
      "text/plain": "   feature    dtype\n0  movieId    int64\n1   imdbId    int64\n2   tmdbId  float64",
      "text/html": "<div>\n<style scoped>\n    .dataframe tbody tr th:only-of-type {\n        vertical-align: middle;\n    }\n\n    .dataframe tbody tr th {\n        vertical-align: top;\n    }\n\n    .dataframe thead th {\n        text-align: right;\n    }\n</style>\n<table border=\"1\" class=\"dataframe\">\n  <thead>\n    <tr style=\"text-align: right;\">\n      <th></th>\n      <th>feature</th>\n      <th>dtype</th>\n    </tr>\n  </thead>\n  <tbody>\n    <tr>\n      <th>0</th>\n      <td>movieId</td>\n      <td>int64</td>\n    </tr>\n    <tr>\n      <th>1</th>\n      <td>imdbId</td>\n      <td>int64</td>\n    </tr>\n    <tr>\n      <th>2</th>\n      <td>tmdbId</td>\n      <td>float64</td>\n    </tr>\n  </tbody>\n</table>\n</div>"
     },
     "execution_count": 16,
     "metadata": {},
     "output_type": "execute_result"
    }
   ],
   "source": [
    "# Check the datatype of \"tmdbId\" in links_small.csv\n",
    "pd.DataFrame({'feature':links.dtypes.index, 'dtype':links.dtypes.values})"
   ],
   "metadata": {
    "collapsed": false,
    "pycharm": {
     "name": "#%%\n"
    }
   }
  },
  {
   "cell_type": "code",
   "execution_count": 17,
   "outputs": [],
   "source": [
    "# Convert float64 to int64\n",
    "col=np.array(links['tmdbId'], np.int64)\n",
    "links['tmdbId']=col"
   ],
   "metadata": {
    "collapsed": false,
    "pycharm": {
     "name": "#%%\n"
    }
   }
  },
  {
   "cell_type": "code",
   "execution_count": 18,
   "outputs": [
    {
     "data": {
      "text/plain": "   adult                              belongs_to_collection    budget  \\\n0  False  {'id': 10194, 'name': 'Toy Story Collection', ...  30000000   \n1  False                                                NaN  65000000   \n2  False  {'id': 119050, 'name': 'Grumpy Old Men Collect...         0   \n3  False                                                NaN  16000000   \n4  False  {'id': 96871, 'name': 'Father of the Bride Col...         0   \n\n                                              genres  \\\n0  [{'id': 16, 'name': 'Animation'}, {'id': 35, '...   \n1  [{'id': 12, 'name': 'Adventure'}, {'id': 14, '...   \n2  [{'id': 10749, 'name': 'Romance'}, {'id': 35, ...   \n3  [{'id': 35, 'name': 'Comedy'}, {'id': 18, 'nam...   \n4                     [{'id': 35, 'name': 'Comedy'}]   \n\n                               homepage  tmdbId original_language  \\\n0  http://toystory.disney.com/toy-story     862                en   \n1                                   NaN    8844                en   \n2                                   NaN   15602                en   \n3                                   NaN   31357                en   \n4                                   NaN   11862                en   \n\n                original_title  \\\n0                    Toy Story   \n1                      Jumanji   \n2             Grumpier Old Men   \n3            Waiting to Exhale   \n4  Father of the Bride Part II   \n\n                                            overview popularity  ... runtime  \\\n0  Led by Woody, Andy's toys live happily in his ...    21.9469  ...    81.0   \n1  When siblings Judy and Peter discover an encha...    17.0155  ...   104.0   \n2  A family wedding reignites the ancient feud be...    11.7129  ...   101.0   \n3  Cheated on, mistreated and stepped on, the wom...    3.85949  ...   127.0   \n4  Just when George Banks has recovered from his ...    8.38752  ...   106.0   \n\n                                    spoken_languages    status  \\\n0           [{'iso_639_1': 'en', 'name': 'English'}]  Released   \n1  [{'iso_639_1': 'en', 'name': 'English'}, {'iso...  Released   \n2           [{'iso_639_1': 'en', 'name': 'English'}]  Released   \n3           [{'iso_639_1': 'en', 'name': 'English'}]  Released   \n4           [{'iso_639_1': 'en', 'name': 'English'}]  Released   \n\n                                             tagline  \\\n0                                                NaN   \n1          Roll the dice and unleash the excitement!   \n2  Still Yelling. Still Fighting. Still Ready for...   \n3  Friends are the people who let you be yourself...   \n4  Just When His World Is Back To Normal... He's ...   \n\n                         title  video vote_average vote_count movieId  imdbId  \n0                    Toy Story  False          7.7     5415.0       1  114709  \n1                      Jumanji  False          6.9     2413.0       2  113497  \n2             Grumpier Old Men  False          6.5       92.0       3  113228  \n3            Waiting to Exhale  False          6.1       34.0       4  114885  \n4  Father of the Bride Part II  False          5.7      173.0       5  113041  \n\n[5 rows x 25 columns]",
      "text/html": "<div>\n<style scoped>\n    .dataframe tbody tr th:only-of-type {\n        vertical-align: middle;\n    }\n\n    .dataframe tbody tr th {\n        vertical-align: top;\n    }\n\n    .dataframe thead th {\n        text-align: right;\n    }\n</style>\n<table border=\"1\" class=\"dataframe\">\n  <thead>\n    <tr style=\"text-align: right;\">\n      <th></th>\n      <th>adult</th>\n      <th>belongs_to_collection</th>\n      <th>budget</th>\n      <th>genres</th>\n      <th>homepage</th>\n      <th>tmdbId</th>\n      <th>original_language</th>\n      <th>original_title</th>\n      <th>overview</th>\n      <th>popularity</th>\n      <th>...</th>\n      <th>runtime</th>\n      <th>spoken_languages</th>\n      <th>status</th>\n      <th>tagline</th>\n      <th>title</th>\n      <th>video</th>\n      <th>vote_average</th>\n      <th>vote_count</th>\n      <th>movieId</th>\n      <th>imdbId</th>\n    </tr>\n  </thead>\n  <tbody>\n    <tr>\n      <th>0</th>\n      <td>False</td>\n      <td>{'id': 10194, 'name': 'Toy Story Collection', ...</td>\n      <td>30000000</td>\n      <td>[{'id': 16, 'name': 'Animation'}, {'id': 35, '...</td>\n      <td>http://toystory.disney.com/toy-story</td>\n      <td>862</td>\n      <td>en</td>\n      <td>Toy Story</td>\n      <td>Led by Woody, Andy's toys live happily in his ...</td>\n      <td>21.9469</td>\n      <td>...</td>\n      <td>81.0</td>\n      <td>[{'iso_639_1': 'en', 'name': 'English'}]</td>\n      <td>Released</td>\n      <td>NaN</td>\n      <td>Toy Story</td>\n      <td>False</td>\n      <td>7.7</td>\n      <td>5415.0</td>\n      <td>1</td>\n      <td>114709</td>\n    </tr>\n    <tr>\n      <th>1</th>\n      <td>False</td>\n      <td>NaN</td>\n      <td>65000000</td>\n      <td>[{'id': 12, 'name': 'Adventure'}, {'id': 14, '...</td>\n      <td>NaN</td>\n      <td>8844</td>\n      <td>en</td>\n      <td>Jumanji</td>\n      <td>When siblings Judy and Peter discover an encha...</td>\n      <td>17.0155</td>\n      <td>...</td>\n      <td>104.0</td>\n      <td>[{'iso_639_1': 'en', 'name': 'English'}, {'iso...</td>\n      <td>Released</td>\n      <td>Roll the dice and unleash the excitement!</td>\n      <td>Jumanji</td>\n      <td>False</td>\n      <td>6.9</td>\n      <td>2413.0</td>\n      <td>2</td>\n      <td>113497</td>\n    </tr>\n    <tr>\n      <th>2</th>\n      <td>False</td>\n      <td>{'id': 119050, 'name': 'Grumpy Old Men Collect...</td>\n      <td>0</td>\n      <td>[{'id': 10749, 'name': 'Romance'}, {'id': 35, ...</td>\n      <td>NaN</td>\n      <td>15602</td>\n      <td>en</td>\n      <td>Grumpier Old Men</td>\n      <td>A family wedding reignites the ancient feud be...</td>\n      <td>11.7129</td>\n      <td>...</td>\n      <td>101.0</td>\n      <td>[{'iso_639_1': 'en', 'name': 'English'}]</td>\n      <td>Released</td>\n      <td>Still Yelling. Still Fighting. Still Ready for...</td>\n      <td>Grumpier Old Men</td>\n      <td>False</td>\n      <td>6.5</td>\n      <td>92.0</td>\n      <td>3</td>\n      <td>113228</td>\n    </tr>\n    <tr>\n      <th>3</th>\n      <td>False</td>\n      <td>NaN</td>\n      <td>16000000</td>\n      <td>[{'id': 35, 'name': 'Comedy'}, {'id': 18, 'nam...</td>\n      <td>NaN</td>\n      <td>31357</td>\n      <td>en</td>\n      <td>Waiting to Exhale</td>\n      <td>Cheated on, mistreated and stepped on, the wom...</td>\n      <td>3.85949</td>\n      <td>...</td>\n      <td>127.0</td>\n      <td>[{'iso_639_1': 'en', 'name': 'English'}]</td>\n      <td>Released</td>\n      <td>Friends are the people who let you be yourself...</td>\n      <td>Waiting to Exhale</td>\n      <td>False</td>\n      <td>6.1</td>\n      <td>34.0</td>\n      <td>4</td>\n      <td>114885</td>\n    </tr>\n    <tr>\n      <th>4</th>\n      <td>False</td>\n      <td>{'id': 96871, 'name': 'Father of the Bride Col...</td>\n      <td>0</td>\n      <td>[{'id': 35, 'name': 'Comedy'}]</td>\n      <td>NaN</td>\n      <td>11862</td>\n      <td>en</td>\n      <td>Father of the Bride Part II</td>\n      <td>Just when George Banks has recovered from his ...</td>\n      <td>8.38752</td>\n      <td>...</td>\n      <td>106.0</td>\n      <td>[{'iso_639_1': 'en', 'name': 'English'}]</td>\n      <td>Released</td>\n      <td>Just When His World Is Back To Normal... He's ...</td>\n      <td>Father of the Bride Part II</td>\n      <td>False</td>\n      <td>5.7</td>\n      <td>173.0</td>\n      <td>5</td>\n      <td>113041</td>\n    </tr>\n  </tbody>\n</table>\n<p>5 rows × 25 columns</p>\n</div>"
     },
     "execution_count": 18,
     "metadata": {},
     "output_type": "execute_result"
    }
   ],
   "source": [
    "# Merge the dataframes on column \"tmdbId\"\n",
    "meta.rename(columns={'id':'tmdbId'}, inplace=True)\n",
    "meta = pd.merge(meta,links,on='tmdbId')\n",
    "meta.drop(['imdb_id'], axis=1, inplace=True)\n",
    "meta.head()\n",
    "\n",
    "# Alternatively, run the following code to reduce the size of movies_metadata.csv to match links_small.csv\n",
    "# meta = meta[meta['tmdbId'].isin(links)]\n",
    "# meta.shape"
   ],
   "metadata": {
    "collapsed": false,
    "pycharm": {
     "name": "#%%\n"
    }
   }
  },
  {
   "cell_type": "code",
   "execution_count": 19,
   "outputs": [
    {
     "data": {
      "text/plain": "(9099, 29727)"
     },
     "execution_count": 19,
     "metadata": {},
     "output_type": "execute_result"
    }
   ],
   "source": [
    "# Remove stop words and use TF-IDF vectorizer\n",
    "tfidf = TfidfVectorizer(stop_words='english')\n",
    "# Construct TF-IDF matrix\n",
    "tfidf_matrix = tfidf.fit_transform(meta['overview'])\n",
    "tfidf_matrix.shape"
   ],
   "metadata": {
    "collapsed": false,
    "pycharm": {
     "name": "#%%\n"
    }
   }
  },
  {
   "cell_type": "code",
   "execution_count": 20,
   "outputs": [],
   "source": [
    "# Compute cosine similarity\n",
    "cosine_sim = linear_kernel(tfidf_matrix, tfidf_matrix)\n",
    "# Get corresponding indices of the movies\n",
    "indices = pd.Series(meta.index, index=meta['original_title']).drop_duplicates()"
   ],
   "metadata": {
    "collapsed": false,
    "pycharm": {
     "name": "#%%\n"
    }
   }
  },
  {
   "cell_type": "code",
   "execution_count": 21,
   "outputs": [],
   "source": [
    "# Recommendation function\n",
    "def recommend(title, cosine_sim=cosine_sim):\n",
    "\n",
    "    # Get the index of the movie that matches the title\n",
    "    idx = indices[title]\n",
    "    # Get the pairwise similarity scores of all movies with the given movie\n",
    "    sim_scores = list(enumerate(cosine_sim[idx]))\n",
    "    # Sort the movies based on the similarity scores\n",
    "    sim_scores = sorted(sim_scores, key=lambda x: x[1], reverse=True)\n",
    "    # Get the scores of the 15 most similar movies\n",
    "    sim_scores = sim_scores[1:16]\n",
    "    # Get the movie indices\n",
    "    movie_indices = [i[0] for i in sim_scores]\n",
    "    # Remove low-rated movies or outliers\n",
    "    for i in movie_indices:\n",
    "        pop = meta.at[i,'vote_average']\n",
    "        if pop<5 or pop>10:\n",
    "            movie_indices.remove(i)\n",
    "\n",
    "    # Return the most similar movies qualifying the 5.0 rating threshold\n",
    "    return meta[['original_title','vote_average']].iloc[movie_indices]"
   ],
   "metadata": {
    "collapsed": false,
    "pycharm": {
     "name": "#%%\n"
    }
   }
  },
  {
   "cell_type": "code",
   "execution_count": 22,
   "outputs": [
    {
     "data": {
      "text/plain": "                  original_title  vote_average\n7516                  Iron Man 2           6.6\n8296                  Iron Man 3           6.8\n5670                    Scarface           7.5\n8766     Avengers: Age of Ultron           7.3\n8100                       Brake           5.3\n4274        Saturday Night Fever           6.5\n6063                     Hostage           6.2\n2322               The Dark Half           5.4\n6152               Batman Begins           7.5\n1650  Return from Witch Mountain           5.6\n5057     Dr. Jekyll and Mr. Hyde           6.6\n1001               Touch of Evil           7.6\n7183          Echelon Conspiracy           5.4\n813     Escape to Witch Mountain           6.5\n1774          Married to the Mob           5.8",
      "text/html": "<div>\n<style scoped>\n    .dataframe tbody tr th:only-of-type {\n        vertical-align: middle;\n    }\n\n    .dataframe tbody tr th {\n        vertical-align: top;\n    }\n\n    .dataframe thead th {\n        text-align: right;\n    }\n</style>\n<table border=\"1\" class=\"dataframe\">\n  <thead>\n    <tr style=\"text-align: right;\">\n      <th></th>\n      <th>original_title</th>\n      <th>vote_average</th>\n    </tr>\n  </thead>\n  <tbody>\n    <tr>\n      <th>7516</th>\n      <td>Iron Man 2</td>\n      <td>6.6</td>\n    </tr>\n    <tr>\n      <th>8296</th>\n      <td>Iron Man 3</td>\n      <td>6.8</td>\n    </tr>\n    <tr>\n      <th>5670</th>\n      <td>Scarface</td>\n      <td>7.5</td>\n    </tr>\n    <tr>\n      <th>8766</th>\n      <td>Avengers: Age of Ultron</td>\n      <td>7.3</td>\n    </tr>\n    <tr>\n      <th>8100</th>\n      <td>Brake</td>\n      <td>5.3</td>\n    </tr>\n    <tr>\n      <th>4274</th>\n      <td>Saturday Night Fever</td>\n      <td>6.5</td>\n    </tr>\n    <tr>\n      <th>6063</th>\n      <td>Hostage</td>\n      <td>6.2</td>\n    </tr>\n    <tr>\n      <th>2322</th>\n      <td>The Dark Half</td>\n      <td>5.4</td>\n    </tr>\n    <tr>\n      <th>6152</th>\n      <td>Batman Begins</td>\n      <td>7.5</td>\n    </tr>\n    <tr>\n      <th>1650</th>\n      <td>Return from Witch Mountain</td>\n      <td>5.6</td>\n    </tr>\n    <tr>\n      <th>5057</th>\n      <td>Dr. Jekyll and Mr. Hyde</td>\n      <td>6.6</td>\n    </tr>\n    <tr>\n      <th>1001</th>\n      <td>Touch of Evil</td>\n      <td>7.6</td>\n    </tr>\n    <tr>\n      <th>7183</th>\n      <td>Echelon Conspiracy</td>\n      <td>5.4</td>\n    </tr>\n    <tr>\n      <th>813</th>\n      <td>Escape to Witch Mountain</td>\n      <td>6.5</td>\n    </tr>\n    <tr>\n      <th>1774</th>\n      <td>Married to the Mob</td>\n      <td>5.8</td>\n    </tr>\n  </tbody>\n</table>\n</div>"
     },
     "execution_count": 22,
     "metadata": {},
     "output_type": "execute_result"
    }
   ],
   "source": [
    "recommend('Iron Man')"
   ],
   "metadata": {
    "collapsed": false,
    "pycharm": {
     "name": "#%%\n"
    }
   }
  },
  {
   "cell_type": "code",
   "execution_count": 23,
   "outputs": [
    {
     "data": {
      "text/plain": "<generator object KFold.split at 0x7fc3d13b6dd0>"
     },
     "execution_count": 23,
     "metadata": {},
     "output_type": "execute_result"
    }
   ],
   "source": [
    "# -- User-focused recommender --\n",
    "\n",
    "reader = Reader() # Used to parse a file containing ratings\n",
    "df = Dataset.load_from_df(ratings[['userId', 'movieId', 'rating']], reader)\n",
    "kf = KFold(n_splits=5)\n",
    "kf.split(df) # Split the data into folds"
   ],
   "metadata": {
    "collapsed": false,
    "pycharm": {
     "name": "#%%\n"
    }
   }
  },
  {
   "cell_type": "code",
   "execution_count": 24,
   "outputs": [
    {
     "data": {
      "text/plain": "<surprise.prediction_algorithms.matrix_factorization.SVD at 0x7fc3c661f1f0>"
     },
     "execution_count": 24,
     "metadata": {},
     "output_type": "execute_result"
    }
   ],
   "source": [
    "# Use Single Value Decomposition (SVD) for cross-validation and fitting\n",
    "svd = SVD()\n",
    "cross_validate(svd, df, measures=['RMSE', 'MAE'])\n",
    "\n",
    "trainset = df.build_full_trainset()\n",
    "svd.fit(trainset)"
   ],
   "metadata": {
    "collapsed": false,
    "pycharm": {
     "name": "#%%\n"
    }
   }
  },
  {
   "cell_type": "code",
   "execution_count": 25,
   "outputs": [
    {
     "data": {
      "text/plain": "     userId  movieId  rating  timestamp\n744      10       50     5.0  942766420\n745      10      152     4.0  942766793\n746      10      318     4.0  942766515\n747      10      344     3.0  942766603\n748      10      345     4.0  942766603\n749      10      592     3.0  942767328\n750      10      735     4.0  942766974\n751      10     1036     3.0  942767258\n752      10     1089     3.0  942766420\n753      10     1101     2.0  942767328\n754      10     1127     4.0  942767328\n755      10     1196     4.0  942767258\n756      10     1197     4.0  942767258\n757      10     1198     4.0  942767258\n758      10     1200     4.0  942767258\n759      10     1210     4.0  942767258\n760      10     1220     3.0  942767328\n761      10     1240     4.0  942767258\n762      10     1291     4.0  942767258\n763      10     1358     5.0  942766420\n764      10     1423     4.0  942766420\n765      10     1459     3.0  942766725\n766      10     1499     3.0  942766845\n767      10     1611     5.0  942767029\n768      10     1690     3.0  942766679\n769      10     1704     4.0  942766472\n770      10     1719     5.0  942766472\n771      10     1887     2.0  942766845\n772      10     1923     5.0  942766515\n773      10     2108     3.0  942766472\n774      10     2344     5.0  942766991\n775      10     2406     4.0  942767328\n776      10     2410     2.0  942767328\n777      10     2539     4.0  942766845\n778      10     2571     5.0  942766515\n779      10     2826     5.0  942766109\n780      10     2827     3.0  942766251\n781      10     2840     3.0  942766213\n782      10     2841     4.0  942766029\n783      10     2881     3.0  942766164\n784      10     2890     4.0  942765978\n785      10     2907     2.0  942766213\n786      10     2926     5.0  942767121\n787      10     2995     2.0  942766251\n788      10     3005     3.0  942766059\n789      10     3019     4.0  942767571",
      "text/html": "<div>\n<style scoped>\n    .dataframe tbody tr th:only-of-type {\n        vertical-align: middle;\n    }\n\n    .dataframe tbody tr th {\n        vertical-align: top;\n    }\n\n    .dataframe thead th {\n        text-align: right;\n    }\n</style>\n<table border=\"1\" class=\"dataframe\">\n  <thead>\n    <tr style=\"text-align: right;\">\n      <th></th>\n      <th>userId</th>\n      <th>movieId</th>\n      <th>rating</th>\n      <th>timestamp</th>\n    </tr>\n  </thead>\n  <tbody>\n    <tr>\n      <th>744</th>\n      <td>10</td>\n      <td>50</td>\n      <td>5.0</td>\n      <td>942766420</td>\n    </tr>\n    <tr>\n      <th>745</th>\n      <td>10</td>\n      <td>152</td>\n      <td>4.0</td>\n      <td>942766793</td>\n    </tr>\n    <tr>\n      <th>746</th>\n      <td>10</td>\n      <td>318</td>\n      <td>4.0</td>\n      <td>942766515</td>\n    </tr>\n    <tr>\n      <th>747</th>\n      <td>10</td>\n      <td>344</td>\n      <td>3.0</td>\n      <td>942766603</td>\n    </tr>\n    <tr>\n      <th>748</th>\n      <td>10</td>\n      <td>345</td>\n      <td>4.0</td>\n      <td>942766603</td>\n    </tr>\n    <tr>\n      <th>749</th>\n      <td>10</td>\n      <td>592</td>\n      <td>3.0</td>\n      <td>942767328</td>\n    </tr>\n    <tr>\n      <th>750</th>\n      <td>10</td>\n      <td>735</td>\n      <td>4.0</td>\n      <td>942766974</td>\n    </tr>\n    <tr>\n      <th>751</th>\n      <td>10</td>\n      <td>1036</td>\n      <td>3.0</td>\n      <td>942767258</td>\n    </tr>\n    <tr>\n      <th>752</th>\n      <td>10</td>\n      <td>1089</td>\n      <td>3.0</td>\n      <td>942766420</td>\n    </tr>\n    <tr>\n      <th>753</th>\n      <td>10</td>\n      <td>1101</td>\n      <td>2.0</td>\n      <td>942767328</td>\n    </tr>\n    <tr>\n      <th>754</th>\n      <td>10</td>\n      <td>1127</td>\n      <td>4.0</td>\n      <td>942767328</td>\n    </tr>\n    <tr>\n      <th>755</th>\n      <td>10</td>\n      <td>1196</td>\n      <td>4.0</td>\n      <td>942767258</td>\n    </tr>\n    <tr>\n      <th>756</th>\n      <td>10</td>\n      <td>1197</td>\n      <td>4.0</td>\n      <td>942767258</td>\n    </tr>\n    <tr>\n      <th>757</th>\n      <td>10</td>\n      <td>1198</td>\n      <td>4.0</td>\n      <td>942767258</td>\n    </tr>\n    <tr>\n      <th>758</th>\n      <td>10</td>\n      <td>1200</td>\n      <td>4.0</td>\n      <td>942767258</td>\n    </tr>\n    <tr>\n      <th>759</th>\n      <td>10</td>\n      <td>1210</td>\n      <td>4.0</td>\n      <td>942767258</td>\n    </tr>\n    <tr>\n      <th>760</th>\n      <td>10</td>\n      <td>1220</td>\n      <td>3.0</td>\n      <td>942767328</td>\n    </tr>\n    <tr>\n      <th>761</th>\n      <td>10</td>\n      <td>1240</td>\n      <td>4.0</td>\n      <td>942767258</td>\n    </tr>\n    <tr>\n      <th>762</th>\n      <td>10</td>\n      <td>1291</td>\n      <td>4.0</td>\n      <td>942767258</td>\n    </tr>\n    <tr>\n      <th>763</th>\n      <td>10</td>\n      <td>1358</td>\n      <td>5.0</td>\n      <td>942766420</td>\n    </tr>\n    <tr>\n      <th>764</th>\n      <td>10</td>\n      <td>1423</td>\n      <td>4.0</td>\n      <td>942766420</td>\n    </tr>\n    <tr>\n      <th>765</th>\n      <td>10</td>\n      <td>1459</td>\n      <td>3.0</td>\n      <td>942766725</td>\n    </tr>\n    <tr>\n      <th>766</th>\n      <td>10</td>\n      <td>1499</td>\n      <td>3.0</td>\n      <td>942766845</td>\n    </tr>\n    <tr>\n      <th>767</th>\n      <td>10</td>\n      <td>1611</td>\n      <td>5.0</td>\n      <td>942767029</td>\n    </tr>\n    <tr>\n      <th>768</th>\n      <td>10</td>\n      <td>1690</td>\n      <td>3.0</td>\n      <td>942766679</td>\n    </tr>\n    <tr>\n      <th>769</th>\n      <td>10</td>\n      <td>1704</td>\n      <td>4.0</td>\n      <td>942766472</td>\n    </tr>\n    <tr>\n      <th>770</th>\n      <td>10</td>\n      <td>1719</td>\n      <td>5.0</td>\n      <td>942766472</td>\n    </tr>\n    <tr>\n      <th>771</th>\n      <td>10</td>\n      <td>1887</td>\n      <td>2.0</td>\n      <td>942766845</td>\n    </tr>\n    <tr>\n      <th>772</th>\n      <td>10</td>\n      <td>1923</td>\n      <td>5.0</td>\n      <td>942766515</td>\n    </tr>\n    <tr>\n      <th>773</th>\n      <td>10</td>\n      <td>2108</td>\n      <td>3.0</td>\n      <td>942766472</td>\n    </tr>\n    <tr>\n      <th>774</th>\n      <td>10</td>\n      <td>2344</td>\n      <td>5.0</td>\n      <td>942766991</td>\n    </tr>\n    <tr>\n      <th>775</th>\n      <td>10</td>\n      <td>2406</td>\n      <td>4.0</td>\n      <td>942767328</td>\n    </tr>\n    <tr>\n      <th>776</th>\n      <td>10</td>\n      <td>2410</td>\n      <td>2.0</td>\n      <td>942767328</td>\n    </tr>\n    <tr>\n      <th>777</th>\n      <td>10</td>\n      <td>2539</td>\n      <td>4.0</td>\n      <td>942766845</td>\n    </tr>\n    <tr>\n      <th>778</th>\n      <td>10</td>\n      <td>2571</td>\n      <td>5.0</td>\n      <td>942766515</td>\n    </tr>\n    <tr>\n      <th>779</th>\n      <td>10</td>\n      <td>2826</td>\n      <td>5.0</td>\n      <td>942766109</td>\n    </tr>\n    <tr>\n      <th>780</th>\n      <td>10</td>\n      <td>2827</td>\n      <td>3.0</td>\n      <td>942766251</td>\n    </tr>\n    <tr>\n      <th>781</th>\n      <td>10</td>\n      <td>2840</td>\n      <td>3.0</td>\n      <td>942766213</td>\n    </tr>\n    <tr>\n      <th>782</th>\n      <td>10</td>\n      <td>2841</td>\n      <td>4.0</td>\n      <td>942766029</td>\n    </tr>\n    <tr>\n      <th>783</th>\n      <td>10</td>\n      <td>2881</td>\n      <td>3.0</td>\n      <td>942766164</td>\n    </tr>\n    <tr>\n      <th>784</th>\n      <td>10</td>\n      <td>2890</td>\n      <td>4.0</td>\n      <td>942765978</td>\n    </tr>\n    <tr>\n      <th>785</th>\n      <td>10</td>\n      <td>2907</td>\n      <td>2.0</td>\n      <td>942766213</td>\n    </tr>\n    <tr>\n      <th>786</th>\n      <td>10</td>\n      <td>2926</td>\n      <td>5.0</td>\n      <td>942767121</td>\n    </tr>\n    <tr>\n      <th>787</th>\n      <td>10</td>\n      <td>2995</td>\n      <td>2.0</td>\n      <td>942766251</td>\n    </tr>\n    <tr>\n      <th>788</th>\n      <td>10</td>\n      <td>3005</td>\n      <td>3.0</td>\n      <td>942766059</td>\n    </tr>\n    <tr>\n      <th>789</th>\n      <td>10</td>\n      <td>3019</td>\n      <td>4.0</td>\n      <td>942767571</td>\n    </tr>\n  </tbody>\n</table>\n</div>"
     },
     "execution_count": 25,
     "metadata": {},
     "output_type": "execute_result"
    }
   ],
   "source": [
    "# Check a random user's ratings\n",
    "ratings[ratings['userId'] == 10]"
   ],
   "metadata": {
    "collapsed": false,
    "pycharm": {
     "name": "#%%\n"
    }
   }
  },
  {
   "cell_type": "code",
   "execution_count": 26,
   "outputs": [],
   "source": [
    "# Recommendation function\n",
    "def hybrid(userId, title):\n",
    "    idx = indices[title]\n",
    "    tmdbId = links_df.loc[title]['tmdbId'] # Get the corresponding tmdb id\n",
    "\n",
    "    sim_scores = list(enumerate(cosine_sim[idx]))\n",
    "    sim_scores = sorted(sim_scores, key=lambda x: x[1], reverse=True)\n",
    "    sim_scores = sim_scores[1:31] # Scores of the 30 most similar movies\n",
    "    movie_indices = [i[0] for i in sim_scores]\n",
    "\n",
    "    movies = meta.iloc[movie_indices][['title', 'vote_average', 'tmdbId']]\n",
    "    movies['est'] = movies['tmdbId'].apply(lambda x: svd.predict(userId, links_index.loc[x]['movieId']).est) # Estimated prediction using svd\n",
    "    movies = movies.sort_values('est', ascending=False) # Rank movies according to the predicted values\n",
    "    movies.columns = ['Title', 'Vote Average', 'TMDb Id', 'Estimated Prediction']\n",
    "    return movies.head(15) # Display top 15 similar movies"
   ],
   "metadata": {
    "collapsed": false,
    "pycharm": {
     "name": "#%%\n"
    }
   }
  }
 ],
 "metadata": {
  "kernelspec": {
   "display_name": "Python 3",
   "language": "python",
   "name": "python3"
  },
  "language_info": {
   "codemirror_mode": {
    "name": "ipython",
    "version": 2
   },
   "file_extension": ".py",
   "mimetype": "text/x-python",
   "name": "python",
   "nbconvert_exporter": "python",
   "pygments_lexer": "ipython2",
   "version": "2.7.6"
  },
  "pycharm": {
   "stem_cell": {
    "cell_type": "raw",
    "source": [
     "#Hybrid Recommender"
    ],
    "metadata": {
     "collapsed": false
    }
   }
  }
 },
 "nbformat": 4,
 "nbformat_minor": 0
}