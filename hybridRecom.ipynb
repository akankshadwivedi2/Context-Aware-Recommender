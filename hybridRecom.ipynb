{
 "cells": [
  {
   "cell_type": "code",
   "execution_count": 1,
   "metadata": {
    "jupyter": {
     "outputs_hidden": false
    },
    "pycharm": {
     "name": "#%% Import File\n"
    }
   },
   "outputs": [
    {
     "name": "stdout",
     "output_type": "stream",
     "text": [
      "Import Success\n"
     ]
    }
   ],
   "source": [
    "import numpy as np\n",
    "import pandas as pd\n",
    "from sklearn.feature_extraction.text import TfidfVectorizer\n",
    "from sklearn.metrics.pairwise import linear_kernel\n",
    "from surprise import Reader, Dataset, SVD\n",
    "from surprise.model_selection import KFold\n",
    "from surprise.model_selection.validation import cross_validate\n",
    "import copy\n",
    "from datetime import datetime\n",
    "\n",
    "\n",
    "print(\"Import Success\")"
   ]
  },
  {
   "cell_type": "code",
   "execution_count": 2,
   "metadata": {
    "jupyter": {
     "outputs_hidden": false
    },
    "pycharm": {
     "name": "#%%\n"
    }
   },
   "outputs": [
    {
     "name": "stderr",
     "output_type": "stream",
     "text": [
      "/usr/local/Caskroom/miniconda/base/envs/recommender/lib/python3.8/site-packages/IPython/core/interactiveshell.py:3146: DtypeWarning: Columns (10) have mixed types.Specify dtype option on import or set low_memory=False.\n",
      "  has_raised = await self.run_ast_nodes(code_ast.body, cell_name,\n"
     ]
    },
    {
     "data": {
      "text/plain": "   adult                              belongs_to_collection    budget  \\\n0  False  {'id': 10194, 'name': 'Toy Story Collection', ...  30000000   \n1  False                                                NaN  65000000   \n2  False  {'id': 119050, 'name': 'Grumpy Old Men Collect...         0   \n3  False                                                NaN  16000000   \n4  False  {'id': 96871, 'name': 'Father of the Bride Col...         0   \n\n                                              genres  \\\n0  [{'id': 16, 'name': 'Animation'}, {'id': 35, '...   \n1  [{'id': 12, 'name': 'Adventure'}, {'id': 14, '...   \n2  [{'id': 10749, 'name': 'Romance'}, {'id': 35, ...   \n3  [{'id': 35, 'name': 'Comedy'}, {'id': 18, 'nam...   \n4                     [{'id': 35, 'name': 'Comedy'}]   \n\n                               homepage     id    imdb_id original_language  \\\n0  http://toystory.disney.com/toy-story    862  tt0114709                en   \n1                                   NaN   8844  tt0113497                en   \n2                                   NaN  15602  tt0113228                en   \n3                                   NaN  31357  tt0114885                en   \n4                                   NaN  11862  tt0113041                en   \n\n                original_title  \\\n0                    Toy Story   \n1                      Jumanji   \n2             Grumpier Old Men   \n3            Waiting to Exhale   \n4  Father of the Bride Part II   \n\n                                            overview  ... release_date  \\\n0  Led by Woody, Andy's toys live happily in his ...  ...   1995-10-30   \n1  When siblings Judy and Peter discover an encha...  ...   1995-12-15   \n2  A family wedding reignites the ancient feud be...  ...   1995-12-22   \n3  Cheated on, mistreated and stepped on, the wom...  ...   1995-12-22   \n4  Just when George Banks has recovered from his ...  ...   1995-02-10   \n\n       revenue runtime                                   spoken_languages  \\\n0  373554033.0    81.0           [{'iso_639_1': 'en', 'name': 'English'}]   \n1  262797249.0   104.0  [{'iso_639_1': 'en', 'name': 'English'}, {'iso...   \n2          0.0   101.0           [{'iso_639_1': 'en', 'name': 'English'}]   \n3   81452156.0   127.0           [{'iso_639_1': 'en', 'name': 'English'}]   \n4   76578911.0   106.0           [{'iso_639_1': 'en', 'name': 'English'}]   \n\n     status                                            tagline  \\\n0  Released                                                NaN   \n1  Released          Roll the dice and unleash the excitement!   \n2  Released  Still Yelling. Still Fighting. Still Ready for...   \n3  Released  Friends are the people who let you be yourself...   \n4  Released  Just When His World Is Back To Normal... He's ...   \n\n                         title  video vote_average vote_count  \n0                    Toy Story  False          7.7     5415.0  \n1                      Jumanji  False          6.9     2413.0  \n2             Grumpier Old Men  False          6.5       92.0  \n3            Waiting to Exhale  False          6.1       34.0  \n4  Father of the Bride Part II  False          5.7      173.0  \n\n[5 rows x 24 columns]",
      "text/html": "<div>\n<style scoped>\n    .dataframe tbody tr th:only-of-type {\n        vertical-align: middle;\n    }\n\n    .dataframe tbody tr th {\n        vertical-align: top;\n    }\n\n    .dataframe thead th {\n        text-align: right;\n    }\n</style>\n<table border=\"1\" class=\"dataframe\">\n  <thead>\n    <tr style=\"text-align: right;\">\n      <th></th>\n      <th>adult</th>\n      <th>belongs_to_collection</th>\n      <th>budget</th>\n      <th>genres</th>\n      <th>homepage</th>\n      <th>id</th>\n      <th>imdb_id</th>\n      <th>original_language</th>\n      <th>original_title</th>\n      <th>overview</th>\n      <th>...</th>\n      <th>release_date</th>\n      <th>revenue</th>\n      <th>runtime</th>\n      <th>spoken_languages</th>\n      <th>status</th>\n      <th>tagline</th>\n      <th>title</th>\n      <th>video</th>\n      <th>vote_average</th>\n      <th>vote_count</th>\n    </tr>\n  </thead>\n  <tbody>\n    <tr>\n      <th>0</th>\n      <td>False</td>\n      <td>{'id': 10194, 'name': 'Toy Story Collection', ...</td>\n      <td>30000000</td>\n      <td>[{'id': 16, 'name': 'Animation'}, {'id': 35, '...</td>\n      <td>http://toystory.disney.com/toy-story</td>\n      <td>862</td>\n      <td>tt0114709</td>\n      <td>en</td>\n      <td>Toy Story</td>\n      <td>Led by Woody, Andy's toys live happily in his ...</td>\n      <td>...</td>\n      <td>1995-10-30</td>\n      <td>373554033.0</td>\n      <td>81.0</td>\n      <td>[{'iso_639_1': 'en', 'name': 'English'}]</td>\n      <td>Released</td>\n      <td>NaN</td>\n      <td>Toy Story</td>\n      <td>False</td>\n      <td>7.7</td>\n      <td>5415.0</td>\n    </tr>\n    <tr>\n      <th>1</th>\n      <td>False</td>\n      <td>NaN</td>\n      <td>65000000</td>\n      <td>[{'id': 12, 'name': 'Adventure'}, {'id': 14, '...</td>\n      <td>NaN</td>\n      <td>8844</td>\n      <td>tt0113497</td>\n      <td>en</td>\n      <td>Jumanji</td>\n      <td>When siblings Judy and Peter discover an encha...</td>\n      <td>...</td>\n      <td>1995-12-15</td>\n      <td>262797249.0</td>\n      <td>104.0</td>\n      <td>[{'iso_639_1': 'en', 'name': 'English'}, {'iso...</td>\n      <td>Released</td>\n      <td>Roll the dice and unleash the excitement!</td>\n      <td>Jumanji</td>\n      <td>False</td>\n      <td>6.9</td>\n      <td>2413.0</td>\n    </tr>\n    <tr>\n      <th>2</th>\n      <td>False</td>\n      <td>{'id': 119050, 'name': 'Grumpy Old Men Collect...</td>\n      <td>0</td>\n      <td>[{'id': 10749, 'name': 'Romance'}, {'id': 35, ...</td>\n      <td>NaN</td>\n      <td>15602</td>\n      <td>tt0113228</td>\n      <td>en</td>\n      <td>Grumpier Old Men</td>\n      <td>A family wedding reignites the ancient feud be...</td>\n      <td>...</td>\n      <td>1995-12-22</td>\n      <td>0.0</td>\n      <td>101.0</td>\n      <td>[{'iso_639_1': 'en', 'name': 'English'}]</td>\n      <td>Released</td>\n      <td>Still Yelling. Still Fighting. Still Ready for...</td>\n      <td>Grumpier Old Men</td>\n      <td>False</td>\n      <td>6.5</td>\n      <td>92.0</td>\n    </tr>\n    <tr>\n      <th>3</th>\n      <td>False</td>\n      <td>NaN</td>\n      <td>16000000</td>\n      <td>[{'id': 35, 'name': 'Comedy'}, {'id': 18, 'nam...</td>\n      <td>NaN</td>\n      <td>31357</td>\n      <td>tt0114885</td>\n      <td>en</td>\n      <td>Waiting to Exhale</td>\n      <td>Cheated on, mistreated and stepped on, the wom...</td>\n      <td>...</td>\n      <td>1995-12-22</td>\n      <td>81452156.0</td>\n      <td>127.0</td>\n      <td>[{'iso_639_1': 'en', 'name': 'English'}]</td>\n      <td>Released</td>\n      <td>Friends are the people who let you be yourself...</td>\n      <td>Waiting to Exhale</td>\n      <td>False</td>\n      <td>6.1</td>\n      <td>34.0</td>\n    </tr>\n    <tr>\n      <th>4</th>\n      <td>False</td>\n      <td>{'id': 96871, 'name': 'Father of the Bride Col...</td>\n      <td>0</td>\n      <td>[{'id': 35, 'name': 'Comedy'}]</td>\n      <td>NaN</td>\n      <td>11862</td>\n      <td>tt0113041</td>\n      <td>en</td>\n      <td>Father of the Bride Part II</td>\n      <td>Just when George Banks has recovered from his ...</td>\n      <td>...</td>\n      <td>1995-02-10</td>\n      <td>76578911.0</td>\n      <td>106.0</td>\n      <td>[{'iso_639_1': 'en', 'name': 'English'}]</td>\n      <td>Released</td>\n      <td>Just When His World Is Back To Normal... He's ...</td>\n      <td>Father of the Bride Part II</td>\n      <td>False</td>\n      <td>5.7</td>\n      <td>173.0</td>\n    </tr>\n  </tbody>\n</table>\n<p>5 rows × 24 columns</p>\n</div>"
     },
     "execution_count": 2,
     "metadata": {},
     "output_type": "execute_result"
    }
   ],
   "source": [
    "meta = pd.read_csv('Dataset/movies_metadata.csv')\n",
    "meta.head()"
   ]
  },
  {
   "cell_type": "code",
   "execution_count": 3,
   "metadata": {
    "jupyter": {
     "outputs_hidden": false
    },
    "pycharm": {
     "name": "#%%\n"
    }
   },
   "outputs": [
    {
     "data": {
      "text/plain": "   userId  movieId  rating   timestamp\n0       1       31     2.5  1260759144\n1       1     1029     3.0  1260759179\n2       1     1061     3.0  1260759182\n3       1     1129     2.0  1260759185\n4       1     1172     4.0  1260759205",
      "text/html": "<div>\n<style scoped>\n    .dataframe tbody tr th:only-of-type {\n        vertical-align: middle;\n    }\n\n    .dataframe tbody tr th {\n        vertical-align: top;\n    }\n\n    .dataframe thead th {\n        text-align: right;\n    }\n</style>\n<table border=\"1\" class=\"dataframe\">\n  <thead>\n    <tr style=\"text-align: right;\">\n      <th></th>\n      <th>userId</th>\n      <th>movieId</th>\n      <th>rating</th>\n      <th>timestamp</th>\n    </tr>\n  </thead>\n  <tbody>\n    <tr>\n      <th>0</th>\n      <td>1</td>\n      <td>31</td>\n      <td>2.5</td>\n      <td>1260759144</td>\n    </tr>\n    <tr>\n      <th>1</th>\n      <td>1</td>\n      <td>1029</td>\n      <td>3.0</td>\n      <td>1260759179</td>\n    </tr>\n    <tr>\n      <th>2</th>\n      <td>1</td>\n      <td>1061</td>\n      <td>3.0</td>\n      <td>1260759182</td>\n    </tr>\n    <tr>\n      <th>3</th>\n      <td>1</td>\n      <td>1129</td>\n      <td>2.0</td>\n      <td>1260759185</td>\n    </tr>\n    <tr>\n      <th>4</th>\n      <td>1</td>\n      <td>1172</td>\n      <td>4.0</td>\n      <td>1260759205</td>\n    </tr>\n  </tbody>\n</table>\n</div>"
     },
     "execution_count": 3,
     "metadata": {},
     "output_type": "execute_result"
    }
   ],
   "source": [
    "# Rating\n",
    "ratings = pd.read_csv('Dataset/ratings_small.csv')\n",
    "ratings.head()"
   ]
  },
  {
   "cell_type": "code",
   "execution_count": 4,
   "metadata": {
    "jupyter": {
     "outputs_hidden": false
    },
    "pycharm": {
     "name": "#%%\n"
    }
   },
   "outputs": [
    {
     "data": {
      "text/plain": "   movieId  imdbId   tmdbId\n0        1  114709    862.0\n1        2  113497   8844.0\n2        3  113228  15602.0\n3        4  114885  31357.0\n4        5  113041  11862.0",
      "text/html": "<div>\n<style scoped>\n    .dataframe tbody tr th:only-of-type {\n        vertical-align: middle;\n    }\n\n    .dataframe tbody tr th {\n        vertical-align: top;\n    }\n\n    .dataframe thead th {\n        text-align: right;\n    }\n</style>\n<table border=\"1\" class=\"dataframe\">\n  <thead>\n    <tr style=\"text-align: right;\">\n      <th></th>\n      <th>movieId</th>\n      <th>imdbId</th>\n      <th>tmdbId</th>\n    </tr>\n  </thead>\n  <tbody>\n    <tr>\n      <th>0</th>\n      <td>1</td>\n      <td>114709</td>\n      <td>862.0</td>\n    </tr>\n    <tr>\n      <th>1</th>\n      <td>2</td>\n      <td>113497</td>\n      <td>8844.0</td>\n    </tr>\n    <tr>\n      <th>2</th>\n      <td>3</td>\n      <td>113228</td>\n      <td>15602.0</td>\n    </tr>\n    <tr>\n      <th>3</th>\n      <td>4</td>\n      <td>114885</td>\n      <td>31357.0</td>\n    </tr>\n    <tr>\n      <th>4</th>\n      <td>5</td>\n      <td>113041</td>\n      <td>11862.0</td>\n    </tr>\n  </tbody>\n</table>\n</div>"
     },
     "execution_count": 4,
     "metadata": {},
     "output_type": "execute_result"
    }
   ],
   "source": [
    "#Links of IMDb and TMDb\n",
    "links = pd.read_csv('Dataset/links_small.csv')\n",
    "links.head()"
   ]
  },
  {
   "cell_type": "code",
   "execution_count": 5,
   "metadata": {
    "jupyter": {
     "outputs_hidden": false
    },
    "pycharm": {
     "name": "#%%\n"
    }
   },
   "outputs": [
    {
     "data": {
      "text/plain": "      id                                           keywords\n0    862  [{'id': 931, 'name': 'jealousy'}, {'id': 4290,...\n1   8844  [{'id': 10090, 'name': 'board game'}, {'id': 1...\n2  15602  [{'id': 1495, 'name': 'fishing'}, {'id': 12392...\n3  31357  [{'id': 818, 'name': 'based on novel'}, {'id':...\n4  11862  [{'id': 1009, 'name': 'baby'}, {'id': 1599, 'n...",
      "text/html": "<div>\n<style scoped>\n    .dataframe tbody tr th:only-of-type {\n        vertical-align: middle;\n    }\n\n    .dataframe tbody tr th {\n        vertical-align: top;\n    }\n\n    .dataframe thead th {\n        text-align: right;\n    }\n</style>\n<table border=\"1\" class=\"dataframe\">\n  <thead>\n    <tr style=\"text-align: right;\">\n      <th></th>\n      <th>id</th>\n      <th>keywords</th>\n    </tr>\n  </thead>\n  <tbody>\n    <tr>\n      <th>0</th>\n      <td>862</td>\n      <td>[{'id': 931, 'name': 'jealousy'}, {'id': 4290,...</td>\n    </tr>\n    <tr>\n      <th>1</th>\n      <td>8844</td>\n      <td>[{'id': 10090, 'name': 'board game'}, {'id': 1...</td>\n    </tr>\n    <tr>\n      <th>2</th>\n      <td>15602</td>\n      <td>[{'id': 1495, 'name': 'fishing'}, {'id': 12392...</td>\n    </tr>\n    <tr>\n      <th>3</th>\n      <td>31357</td>\n      <td>[{'id': 818, 'name': 'based on novel'}, {'id':...</td>\n    </tr>\n    <tr>\n      <th>4</th>\n      <td>11862</td>\n      <td>[{'id': 1009, 'name': 'baby'}, {'id': 1599, 'n...</td>\n    </tr>\n  </tbody>\n</table>\n</div>"
     },
     "execution_count": 5,
     "metadata": {},
     "output_type": "execute_result"
    }
   ],
   "source": [
    "keywords = pd.read_csv('Dataset/keywords.csv')\n",
    "keywords.head()"
   ]
  },
  {
   "cell_type": "code",
   "execution_count": 6,
   "metadata": {
    "jupyter": {
     "outputs_hidden": false
    },
    "pycharm": {
     "name": "#%%\n"
    }
   },
   "outputs": [
    {
     "data": {
      "text/plain": "0    Led by Woody, Andy's toys live happily in his ...\n1    When siblings Judy and Peter discover an encha...\n2    A family wedding reignites the ancient feud be...\n3    Cheated on, mistreated and stepped on, the wom...\n4    Just when George Banks has recovered from his ...\nName: overview, dtype: object"
     },
     "execution_count": 6,
     "metadata": {},
     "output_type": "execute_result"
    }
   ],
   "source": [
    "# Content based Recommender System\n",
    "\n",
    "meta['overview'] = meta['overview'].fillna('')\n",
    "meta['overview'].head()"
   ]
  },
  {
   "cell_type": "code",
   "execution_count": 7,
   "metadata": {
    "jupyter": {
     "outputs_hidden": false
    },
    "pycharm": {
     "name": "#%%\n"
    }
   },
   "outputs": [
    {
     "data": {
      "text/plain": "                  feature    dtype\n0                   adult   object\n1   belongs_to_collection   object\n2                  budget   object\n3                  genres   object\n4                homepage   object\n5                      id   object\n6                 imdb_id   object\n7       original_language   object\n8          original_title   object\n9                overview   object\n10             popularity   object\n11            poster_path   object\n12   production_companies   object\n13   production_countries   object\n14           release_date   object\n15                revenue  float64\n16                runtime  float64\n17       spoken_languages   object\n18                 status   object\n19                tagline   object\n20                  title   object\n21                  video   object\n22           vote_average  float64\n23             vote_count  float64",
      "text/html": "<div>\n<style scoped>\n    .dataframe tbody tr th:only-of-type {\n        vertical-align: middle;\n    }\n\n    .dataframe tbody tr th {\n        vertical-align: top;\n    }\n\n    .dataframe thead th {\n        text-align: right;\n    }\n</style>\n<table border=\"1\" class=\"dataframe\">\n  <thead>\n    <tr style=\"text-align: right;\">\n      <th></th>\n      <th>feature</th>\n      <th>dtype</th>\n    </tr>\n  </thead>\n  <tbody>\n    <tr>\n      <th>0</th>\n      <td>adult</td>\n      <td>object</td>\n    </tr>\n    <tr>\n      <th>1</th>\n      <td>belongs_to_collection</td>\n      <td>object</td>\n    </tr>\n    <tr>\n      <th>2</th>\n      <td>budget</td>\n      <td>object</td>\n    </tr>\n    <tr>\n      <th>3</th>\n      <td>genres</td>\n      <td>object</td>\n    </tr>\n    <tr>\n      <th>4</th>\n      <td>homepage</td>\n      <td>object</td>\n    </tr>\n    <tr>\n      <th>5</th>\n      <td>id</td>\n      <td>object</td>\n    </tr>\n    <tr>\n      <th>6</th>\n      <td>imdb_id</td>\n      <td>object</td>\n    </tr>\n    <tr>\n      <th>7</th>\n      <td>original_language</td>\n      <td>object</td>\n    </tr>\n    <tr>\n      <th>8</th>\n      <td>original_title</td>\n      <td>object</td>\n    </tr>\n    <tr>\n      <th>9</th>\n      <td>overview</td>\n      <td>object</td>\n    </tr>\n    <tr>\n      <th>10</th>\n      <td>popularity</td>\n      <td>object</td>\n    </tr>\n    <tr>\n      <th>11</th>\n      <td>poster_path</td>\n      <td>object</td>\n    </tr>\n    <tr>\n      <th>12</th>\n      <td>production_companies</td>\n      <td>object</td>\n    </tr>\n    <tr>\n      <th>13</th>\n      <td>production_countries</td>\n      <td>object</td>\n    </tr>\n    <tr>\n      <th>14</th>\n      <td>release_date</td>\n      <td>object</td>\n    </tr>\n    <tr>\n      <th>15</th>\n      <td>revenue</td>\n      <td>float64</td>\n    </tr>\n    <tr>\n      <th>16</th>\n      <td>runtime</td>\n      <td>float64</td>\n    </tr>\n    <tr>\n      <th>17</th>\n      <td>spoken_languages</td>\n      <td>object</td>\n    </tr>\n    <tr>\n      <th>18</th>\n      <td>status</td>\n      <td>object</td>\n    </tr>\n    <tr>\n      <th>19</th>\n      <td>tagline</td>\n      <td>object</td>\n    </tr>\n    <tr>\n      <th>20</th>\n      <td>title</td>\n      <td>object</td>\n    </tr>\n    <tr>\n      <th>21</th>\n      <td>video</td>\n      <td>object</td>\n    </tr>\n    <tr>\n      <th>22</th>\n      <td>vote_average</td>\n      <td>float64</td>\n    </tr>\n    <tr>\n      <th>23</th>\n      <td>vote_count</td>\n      <td>float64</td>\n    </tr>\n  </tbody>\n</table>\n</div>"
     },
     "execution_count": 7,
     "metadata": {},
     "output_type": "execute_result"
    }
   ],
   "source": [
    "pd.DataFrame({'feature':meta.dtypes.index, 'dtype':meta.dtypes.values})"
   ]
  },
  {
   "cell_type": "code",
   "execution_count": 8,
   "metadata": {
    "jupyter": {
     "outputs_hidden": false
    },
    "pycharm": {
     "name": "#%%\n"
    }
   },
   "outputs": [],
   "source": [
    "meta = meta.drop([19730, 29503, 35587]) # Remove these ids to solve ValueError: \"Unable to parse string...\"\n",
    "\n",
    "meta['id'] = pd.to_numeric(meta['id'])"
   ]
  },
  {
   "cell_type": "code",
   "execution_count": 9,
   "metadata": {
    "jupyter": {
     "outputs_hidden": false
    },
    "pycharm": {
     "name": "#%%\n"
    }
   },
   "outputs": [
    {
     "data": {
      "text/plain": "   feature    dtype\n0  movieId    int64\n1   imdbId    int64\n2   tmdbId  float64",
      "text/html": "<div>\n<style scoped>\n    .dataframe tbody tr th:only-of-type {\n        vertical-align: middle;\n    }\n\n    .dataframe tbody tr th {\n        vertical-align: top;\n    }\n\n    .dataframe thead th {\n        text-align: right;\n    }\n</style>\n<table border=\"1\" class=\"dataframe\">\n  <thead>\n    <tr style=\"text-align: right;\">\n      <th></th>\n      <th>feature</th>\n      <th>dtype</th>\n    </tr>\n  </thead>\n  <tbody>\n    <tr>\n      <th>0</th>\n      <td>movieId</td>\n      <td>int64</td>\n    </tr>\n    <tr>\n      <th>1</th>\n      <td>imdbId</td>\n      <td>int64</td>\n    </tr>\n    <tr>\n      <th>2</th>\n      <td>tmdbId</td>\n      <td>float64</td>\n    </tr>\n  </tbody>\n</table>\n</div>"
     },
     "execution_count": 9,
     "metadata": {},
     "output_type": "execute_result"
    }
   ],
   "source": [
    "pd.DataFrame({'feature':links.dtypes.index, 'dtype':links.dtypes.values})"
   ]
  },
  {
   "cell_type": "code",
   "execution_count": 10,
   "metadata": {
    "jupyter": {
     "outputs_hidden": false
    },
    "pycharm": {
     "name": "#%%\n"
    }
   },
   "outputs": [],
   "source": [
    "col=np.array(links['tmdbId'], np.int64)\n",
    "links['tmdbId']=col"
   ]
  },
  {
   "cell_type": "code",
   "execution_count": 11,
   "metadata": {
    "jupyter": {
     "outputs_hidden": false
    },
    "pycharm": {
     "name": "#%%\n"
    }
   },
   "outputs": [
    {
     "data": {
      "text/plain": "   adult                              belongs_to_collection    budget  \\\n0  False  {'id': 10194, 'name': 'Toy Story Collection', ...  30000000   \n1  False                                                NaN  65000000   \n2  False  {'id': 119050, 'name': 'Grumpy Old Men Collect...         0   \n3  False                                                NaN  16000000   \n4  False  {'id': 96871, 'name': 'Father of the Bride Col...         0   \n\n                                              genres  \\\n0  [{'id': 16, 'name': 'Animation'}, {'id': 35, '...   \n1  [{'id': 12, 'name': 'Adventure'}, {'id': 14, '...   \n2  [{'id': 10749, 'name': 'Romance'}, {'id': 35, ...   \n3  [{'id': 35, 'name': 'Comedy'}, {'id': 18, 'nam...   \n4                     [{'id': 35, 'name': 'Comedy'}]   \n\n                               homepage  tmdbId original_language  \\\n0  http://toystory.disney.com/toy-story     862                en   \n1                                   NaN    8844                en   \n2                                   NaN   15602                en   \n3                                   NaN   31357                en   \n4                                   NaN   11862                en   \n\n                original_title  \\\n0                    Toy Story   \n1                      Jumanji   \n2             Grumpier Old Men   \n3            Waiting to Exhale   \n4  Father of the Bride Part II   \n\n                                            overview popularity  ... runtime  \\\n0  Led by Woody, Andy's toys live happily in his ...    21.9469  ...    81.0   \n1  When siblings Judy and Peter discover an encha...    17.0155  ...   104.0   \n2  A family wedding reignites the ancient feud be...    11.7129  ...   101.0   \n3  Cheated on, mistreated and stepped on, the wom...    3.85949  ...   127.0   \n4  Just when George Banks has recovered from his ...    8.38752  ...   106.0   \n\n                                    spoken_languages    status  \\\n0           [{'iso_639_1': 'en', 'name': 'English'}]  Released   \n1  [{'iso_639_1': 'en', 'name': 'English'}, {'iso...  Released   \n2           [{'iso_639_1': 'en', 'name': 'English'}]  Released   \n3           [{'iso_639_1': 'en', 'name': 'English'}]  Released   \n4           [{'iso_639_1': 'en', 'name': 'English'}]  Released   \n\n                                             tagline  \\\n0                                                NaN   \n1          Roll the dice and unleash the excitement!   \n2  Still Yelling. Still Fighting. Still Ready for...   \n3  Friends are the people who let you be yourself...   \n4  Just When His World Is Back To Normal... He's ...   \n\n                         title  video vote_average vote_count movieId  imdbId  \n0                    Toy Story  False          7.7     5415.0       1  114709  \n1                      Jumanji  False          6.9     2413.0       2  113497  \n2             Grumpier Old Men  False          6.5       92.0       3  113228  \n3            Waiting to Exhale  False          6.1       34.0       4  114885  \n4  Father of the Bride Part II  False          5.7      173.0       5  113041  \n\n[5 rows x 25 columns]",
      "text/html": "<div>\n<style scoped>\n    .dataframe tbody tr th:only-of-type {\n        vertical-align: middle;\n    }\n\n    .dataframe tbody tr th {\n        vertical-align: top;\n    }\n\n    .dataframe thead th {\n        text-align: right;\n    }\n</style>\n<table border=\"1\" class=\"dataframe\">\n  <thead>\n    <tr style=\"text-align: right;\">\n      <th></th>\n      <th>adult</th>\n      <th>belongs_to_collection</th>\n      <th>budget</th>\n      <th>genres</th>\n      <th>homepage</th>\n      <th>tmdbId</th>\n      <th>original_language</th>\n      <th>original_title</th>\n      <th>overview</th>\n      <th>popularity</th>\n      <th>...</th>\n      <th>runtime</th>\n      <th>spoken_languages</th>\n      <th>status</th>\n      <th>tagline</th>\n      <th>title</th>\n      <th>video</th>\n      <th>vote_average</th>\n      <th>vote_count</th>\n      <th>movieId</th>\n      <th>imdbId</th>\n    </tr>\n  </thead>\n  <tbody>\n    <tr>\n      <th>0</th>\n      <td>False</td>\n      <td>{'id': 10194, 'name': 'Toy Story Collection', ...</td>\n      <td>30000000</td>\n      <td>[{'id': 16, 'name': 'Animation'}, {'id': 35, '...</td>\n      <td>http://toystory.disney.com/toy-story</td>\n      <td>862</td>\n      <td>en</td>\n      <td>Toy Story</td>\n      <td>Led by Woody, Andy's toys live happily in his ...</td>\n      <td>21.9469</td>\n      <td>...</td>\n      <td>81.0</td>\n      <td>[{'iso_639_1': 'en', 'name': 'English'}]</td>\n      <td>Released</td>\n      <td>NaN</td>\n      <td>Toy Story</td>\n      <td>False</td>\n      <td>7.7</td>\n      <td>5415.0</td>\n      <td>1</td>\n      <td>114709</td>\n    </tr>\n    <tr>\n      <th>1</th>\n      <td>False</td>\n      <td>NaN</td>\n      <td>65000000</td>\n      <td>[{'id': 12, 'name': 'Adventure'}, {'id': 14, '...</td>\n      <td>NaN</td>\n      <td>8844</td>\n      <td>en</td>\n      <td>Jumanji</td>\n      <td>When siblings Judy and Peter discover an encha...</td>\n      <td>17.0155</td>\n      <td>...</td>\n      <td>104.0</td>\n      <td>[{'iso_639_1': 'en', 'name': 'English'}, {'iso...</td>\n      <td>Released</td>\n      <td>Roll the dice and unleash the excitement!</td>\n      <td>Jumanji</td>\n      <td>False</td>\n      <td>6.9</td>\n      <td>2413.0</td>\n      <td>2</td>\n      <td>113497</td>\n    </tr>\n    <tr>\n      <th>2</th>\n      <td>False</td>\n      <td>{'id': 119050, 'name': 'Grumpy Old Men Collect...</td>\n      <td>0</td>\n      <td>[{'id': 10749, 'name': 'Romance'}, {'id': 35, ...</td>\n      <td>NaN</td>\n      <td>15602</td>\n      <td>en</td>\n      <td>Grumpier Old Men</td>\n      <td>A family wedding reignites the ancient feud be...</td>\n      <td>11.7129</td>\n      <td>...</td>\n      <td>101.0</td>\n      <td>[{'iso_639_1': 'en', 'name': 'English'}]</td>\n      <td>Released</td>\n      <td>Still Yelling. Still Fighting. Still Ready for...</td>\n      <td>Grumpier Old Men</td>\n      <td>False</td>\n      <td>6.5</td>\n      <td>92.0</td>\n      <td>3</td>\n      <td>113228</td>\n    </tr>\n    <tr>\n      <th>3</th>\n      <td>False</td>\n      <td>NaN</td>\n      <td>16000000</td>\n      <td>[{'id': 35, 'name': 'Comedy'}, {'id': 18, 'nam...</td>\n      <td>NaN</td>\n      <td>31357</td>\n      <td>en</td>\n      <td>Waiting to Exhale</td>\n      <td>Cheated on, mistreated and stepped on, the wom...</td>\n      <td>3.85949</td>\n      <td>...</td>\n      <td>127.0</td>\n      <td>[{'iso_639_1': 'en', 'name': 'English'}]</td>\n      <td>Released</td>\n      <td>Friends are the people who let you be yourself...</td>\n      <td>Waiting to Exhale</td>\n      <td>False</td>\n      <td>6.1</td>\n      <td>34.0</td>\n      <td>4</td>\n      <td>114885</td>\n    </tr>\n    <tr>\n      <th>4</th>\n      <td>False</td>\n      <td>{'id': 96871, 'name': 'Father of the Bride Col...</td>\n      <td>0</td>\n      <td>[{'id': 35, 'name': 'Comedy'}]</td>\n      <td>NaN</td>\n      <td>11862</td>\n      <td>en</td>\n      <td>Father of the Bride Part II</td>\n      <td>Just when George Banks has recovered from his ...</td>\n      <td>8.38752</td>\n      <td>...</td>\n      <td>106.0</td>\n      <td>[{'iso_639_1': 'en', 'name': 'English'}]</td>\n      <td>Released</td>\n      <td>Just When His World Is Back To Normal... He's ...</td>\n      <td>Father of the Bride Part II</td>\n      <td>False</td>\n      <td>5.7</td>\n      <td>173.0</td>\n      <td>5</td>\n      <td>113041</td>\n    </tr>\n  </tbody>\n</table>\n<p>5 rows × 25 columns</p>\n</div>"
     },
     "execution_count": 11,
     "metadata": {},
     "output_type": "execute_result"
    }
   ],
   "source": [
    "meta.rename(columns={'id':'tmdbId'}, inplace=True)\n",
    "meta = pd.merge(meta,links,on='tmdbId')\n",
    "meta.drop(['imdb_id'], axis=1, inplace=True)\n",
    "meta.head()\n"
   ]
  },
  {
   "cell_type": "code",
   "execution_count": 12,
   "metadata": {
    "jupyter": {
     "outputs_hidden": false
    },
    "pycharm": {
     "name": "#%%\n"
    }
   },
   "outputs": [
    {
     "data": {
      "text/plain": "(9099, 29727)"
     },
     "execution_count": 12,
     "metadata": {},
     "output_type": "execute_result"
    }
   ],
   "source": [
    "tfidf = TfidfVectorizer(stop_words='english')\n",
    "\n",
    "\n",
    "# Constructing  matrix TF-IDF\n",
    "tfidf_matrix = tfidf.fit_transform(meta['overview'])\n",
    "tfidf_matrix.shape"
   ]
  },
  {
   "cell_type": "code",
   "execution_count": 13,
   "metadata": {
    "jupyter": {
     "outputs_hidden": false
    },
    "pycharm": {
     "name": "#%%\n"
    }
   },
   "outputs": [],
   "source": [
    "cosine_sim = linear_kernel(tfidf_matrix, tfidf_matrix)\n",
    "indices = pd.Series(meta.index, index=meta['original_title']).drop_duplicates()"
   ]
  },
  {
   "cell_type": "code",
   "execution_count": 14,
   "metadata": {
    "jupyter": {
     "outputs_hidden": false
    },
    "pycharm": {
     "name": "#%%\n"
    }
   },
   "outputs": [],
   "source": [
    "def recommend(title, cosine_sim=cosine_sim):\n",
    "\n",
    "    idx = indices[title]\n",
    "    sim_scores = list(enumerate(cosine_sim[idx]))\n",
    "    sim_scores = sorted(sim_scores, key=lambda x: x[1], reverse=True)\n",
    "    sim_scores = sim_scores[1:16]\n",
    "    movie_indices = [i[0] for i in sim_scores]\n",
    "    for i in movie_indices:\n",
    "        pop = meta.at[i,'vote_average']\n",
    "        if pop<5 or pop>10:\n",
    "            movie_indices.remove(i)\n",
    "\n",
    "    return meta[['original_title','vote_average']].iloc[movie_indices]"
   ]
  },
  {
   "cell_type": "code",
   "execution_count": 15,
   "metadata": {
    "jupyter": {
     "outputs_hidden": false
    },
    "pycharm": {
     "name": "#%%\n"
    }
   },
   "outputs": [
    {
     "data": {
      "text/plain": "                  original_title  vote_average\n7516                  Iron Man 2           6.6\n8296                  Iron Man 3           6.8\n5670                    Scarface           7.5\n8766     Avengers: Age of Ultron           7.3\n8100                       Brake           5.3\n4274        Saturday Night Fever           6.5\n6063                     Hostage           6.2\n2322               The Dark Half           5.4\n6152               Batman Begins           7.5\n1650  Return from Witch Mountain           5.6\n5057     Dr. Jekyll and Mr. Hyde           6.6\n1001               Touch of Evil           7.6\n7183          Echelon Conspiracy           5.4\n813     Escape to Witch Mountain           6.5\n1774          Married to the Mob           5.8",
      "text/html": "<div>\n<style scoped>\n    .dataframe tbody tr th:only-of-type {\n        vertical-align: middle;\n    }\n\n    .dataframe tbody tr th {\n        vertical-align: top;\n    }\n\n    .dataframe thead th {\n        text-align: right;\n    }\n</style>\n<table border=\"1\" class=\"dataframe\">\n  <thead>\n    <tr style=\"text-align: right;\">\n      <th></th>\n      <th>original_title</th>\n      <th>vote_average</th>\n    </tr>\n  </thead>\n  <tbody>\n    <tr>\n      <th>7516</th>\n      <td>Iron Man 2</td>\n      <td>6.6</td>\n    </tr>\n    <tr>\n      <th>8296</th>\n      <td>Iron Man 3</td>\n      <td>6.8</td>\n    </tr>\n    <tr>\n      <th>5670</th>\n      <td>Scarface</td>\n      <td>7.5</td>\n    </tr>\n    <tr>\n      <th>8766</th>\n      <td>Avengers: Age of Ultron</td>\n      <td>7.3</td>\n    </tr>\n    <tr>\n      <th>8100</th>\n      <td>Brake</td>\n      <td>5.3</td>\n    </tr>\n    <tr>\n      <th>4274</th>\n      <td>Saturday Night Fever</td>\n      <td>6.5</td>\n    </tr>\n    <tr>\n      <th>6063</th>\n      <td>Hostage</td>\n      <td>6.2</td>\n    </tr>\n    <tr>\n      <th>2322</th>\n      <td>The Dark Half</td>\n      <td>5.4</td>\n    </tr>\n    <tr>\n      <th>6152</th>\n      <td>Batman Begins</td>\n      <td>7.5</td>\n    </tr>\n    <tr>\n      <th>1650</th>\n      <td>Return from Witch Mountain</td>\n      <td>5.6</td>\n    </tr>\n    <tr>\n      <th>5057</th>\n      <td>Dr. Jekyll and Mr. Hyde</td>\n      <td>6.6</td>\n    </tr>\n    <tr>\n      <th>1001</th>\n      <td>Touch of Evil</td>\n      <td>7.6</td>\n    </tr>\n    <tr>\n      <th>7183</th>\n      <td>Echelon Conspiracy</td>\n      <td>5.4</td>\n    </tr>\n    <tr>\n      <th>813</th>\n      <td>Escape to Witch Mountain</td>\n      <td>6.5</td>\n    </tr>\n    <tr>\n      <th>1774</th>\n      <td>Married to the Mob</td>\n      <td>5.8</td>\n    </tr>\n  </tbody>\n</table>\n</div>"
     },
     "execution_count": 15,
     "metadata": {},
     "output_type": "execute_result"
    }
   ],
   "source": [
    "recommend('Iron Man')"
   ]
  },
  {
   "cell_type": "code",
   "execution_count": 16,
   "metadata": {
    "jupyter": {
     "outputs_hidden": false
    },
    "pycharm": {
     "name": "#%%\n"
    }
   },
   "outputs": [
    {
     "data": {
      "text/plain": "<generator object KFold.split at 0x7fe0bbf08c80>"
     },
     "execution_count": 16,
     "metadata": {},
     "output_type": "execute_result"
    }
   ],
   "source": [
    "\n",
    "reader = Reader() \n",
    "df = Dataset.load_from_df(ratings[['userId', 'movieId', 'rating']], reader)\n",
    "kf = KFold(n_splits=5)\n",
    "kf.split(df) "
   ]
  },
  {
   "cell_type": "code",
   "execution_count": 17,
   "metadata": {
    "jupyter": {
     "outputs_hidden": false
    },
    "pycharm": {
     "name": "#%%\n"
    }
   },
   "outputs": [
    {
     "data": {
      "text/plain": "<surprise.prediction_algorithms.matrix_factorization.SVD at 0x7fe0b6817ac0>"
     },
     "execution_count": 17,
     "metadata": {},
     "output_type": "execute_result"
    }
   ],
   "source": [
    "svd = SVD()\n",
    "cross_validate(svd, df, measures=['RMSE', 'MAE'])\n",
    "\n",
    "trainset = df.build_full_trainset()\n",
    "svd.fit(trainset)"
   ]
  },
  {
   "cell_type": "code",
   "execution_count": 18,
   "metadata": {
    "jupyter": {
     "outputs_hidden": false
    },
    "pycharm": {
     "name": "#%%\n"
    }
   },
   "outputs": [
    {
     "data": {
      "text/plain": "     userId  movieId  rating  timestamp\n744      10       50     5.0  942766420\n745      10      152     4.0  942766793\n746      10      318     4.0  942766515\n747      10      344     3.0  942766603\n748      10      345     4.0  942766603\n749      10      592     3.0  942767328\n750      10      735     4.0  942766974\n751      10     1036     3.0  942767258\n752      10     1089     3.0  942766420\n753      10     1101     2.0  942767328\n754      10     1127     4.0  942767328\n755      10     1196     4.0  942767258\n756      10     1197     4.0  942767258\n757      10     1198     4.0  942767258\n758      10     1200     4.0  942767258\n759      10     1210     4.0  942767258\n760      10     1220     3.0  942767328\n761      10     1240     4.0  942767258\n762      10     1291     4.0  942767258\n763      10     1358     5.0  942766420\n764      10     1423     4.0  942766420\n765      10     1459     3.0  942766725\n766      10     1499     3.0  942766845\n767      10     1611     5.0  942767029\n768      10     1690     3.0  942766679\n769      10     1704     4.0  942766472\n770      10     1719     5.0  942766472\n771      10     1887     2.0  942766845\n772      10     1923     5.0  942766515\n773      10     2108     3.0  942766472\n774      10     2344     5.0  942766991\n775      10     2406     4.0  942767328\n776      10     2410     2.0  942767328\n777      10     2539     4.0  942766845\n778      10     2571     5.0  942766515\n779      10     2826     5.0  942766109\n780      10     2827     3.0  942766251\n781      10     2840     3.0  942766213\n782      10     2841     4.0  942766029\n783      10     2881     3.0  942766164\n784      10     2890     4.0  942765978\n785      10     2907     2.0  942766213\n786      10     2926     5.0  942767121\n787      10     2995     2.0  942766251\n788      10     3005     3.0  942766059\n789      10     3019     4.0  942767571",
      "text/html": "<div>\n<style scoped>\n    .dataframe tbody tr th:only-of-type {\n        vertical-align: middle;\n    }\n\n    .dataframe tbody tr th {\n        vertical-align: top;\n    }\n\n    .dataframe thead th {\n        text-align: right;\n    }\n</style>\n<table border=\"1\" class=\"dataframe\">\n  <thead>\n    <tr style=\"text-align: right;\">\n      <th></th>\n      <th>userId</th>\n      <th>movieId</th>\n      <th>rating</th>\n      <th>timestamp</th>\n    </tr>\n  </thead>\n  <tbody>\n    <tr>\n      <th>744</th>\n      <td>10</td>\n      <td>50</td>\n      <td>5.0</td>\n      <td>942766420</td>\n    </tr>\n    <tr>\n      <th>745</th>\n      <td>10</td>\n      <td>152</td>\n      <td>4.0</td>\n      <td>942766793</td>\n    </tr>\n    <tr>\n      <th>746</th>\n      <td>10</td>\n      <td>318</td>\n      <td>4.0</td>\n      <td>942766515</td>\n    </tr>\n    <tr>\n      <th>747</th>\n      <td>10</td>\n      <td>344</td>\n      <td>3.0</td>\n      <td>942766603</td>\n    </tr>\n    <tr>\n      <th>748</th>\n      <td>10</td>\n      <td>345</td>\n      <td>4.0</td>\n      <td>942766603</td>\n    </tr>\n    <tr>\n      <th>749</th>\n      <td>10</td>\n      <td>592</td>\n      <td>3.0</td>\n      <td>942767328</td>\n    </tr>\n    <tr>\n      <th>750</th>\n      <td>10</td>\n      <td>735</td>\n      <td>4.0</td>\n      <td>942766974</td>\n    </tr>\n    <tr>\n      <th>751</th>\n      <td>10</td>\n      <td>1036</td>\n      <td>3.0</td>\n      <td>942767258</td>\n    </tr>\n    <tr>\n      <th>752</th>\n      <td>10</td>\n      <td>1089</td>\n      <td>3.0</td>\n      <td>942766420</td>\n    </tr>\n    <tr>\n      <th>753</th>\n      <td>10</td>\n      <td>1101</td>\n      <td>2.0</td>\n      <td>942767328</td>\n    </tr>\n    <tr>\n      <th>754</th>\n      <td>10</td>\n      <td>1127</td>\n      <td>4.0</td>\n      <td>942767328</td>\n    </tr>\n    <tr>\n      <th>755</th>\n      <td>10</td>\n      <td>1196</td>\n      <td>4.0</td>\n      <td>942767258</td>\n    </tr>\n    <tr>\n      <th>756</th>\n      <td>10</td>\n      <td>1197</td>\n      <td>4.0</td>\n      <td>942767258</td>\n    </tr>\n    <tr>\n      <th>757</th>\n      <td>10</td>\n      <td>1198</td>\n      <td>4.0</td>\n      <td>942767258</td>\n    </tr>\n    <tr>\n      <th>758</th>\n      <td>10</td>\n      <td>1200</td>\n      <td>4.0</td>\n      <td>942767258</td>\n    </tr>\n    <tr>\n      <th>759</th>\n      <td>10</td>\n      <td>1210</td>\n      <td>4.0</td>\n      <td>942767258</td>\n    </tr>\n    <tr>\n      <th>760</th>\n      <td>10</td>\n      <td>1220</td>\n      <td>3.0</td>\n      <td>942767328</td>\n    </tr>\n    <tr>\n      <th>761</th>\n      <td>10</td>\n      <td>1240</td>\n      <td>4.0</td>\n      <td>942767258</td>\n    </tr>\n    <tr>\n      <th>762</th>\n      <td>10</td>\n      <td>1291</td>\n      <td>4.0</td>\n      <td>942767258</td>\n    </tr>\n    <tr>\n      <th>763</th>\n      <td>10</td>\n      <td>1358</td>\n      <td>5.0</td>\n      <td>942766420</td>\n    </tr>\n    <tr>\n      <th>764</th>\n      <td>10</td>\n      <td>1423</td>\n      <td>4.0</td>\n      <td>942766420</td>\n    </tr>\n    <tr>\n      <th>765</th>\n      <td>10</td>\n      <td>1459</td>\n      <td>3.0</td>\n      <td>942766725</td>\n    </tr>\n    <tr>\n      <th>766</th>\n      <td>10</td>\n      <td>1499</td>\n      <td>3.0</td>\n      <td>942766845</td>\n    </tr>\n    <tr>\n      <th>767</th>\n      <td>10</td>\n      <td>1611</td>\n      <td>5.0</td>\n      <td>942767029</td>\n    </tr>\n    <tr>\n      <th>768</th>\n      <td>10</td>\n      <td>1690</td>\n      <td>3.0</td>\n      <td>942766679</td>\n    </tr>\n    <tr>\n      <th>769</th>\n      <td>10</td>\n      <td>1704</td>\n      <td>4.0</td>\n      <td>942766472</td>\n    </tr>\n    <tr>\n      <th>770</th>\n      <td>10</td>\n      <td>1719</td>\n      <td>5.0</td>\n      <td>942766472</td>\n    </tr>\n    <tr>\n      <th>771</th>\n      <td>10</td>\n      <td>1887</td>\n      <td>2.0</td>\n      <td>942766845</td>\n    </tr>\n    <tr>\n      <th>772</th>\n      <td>10</td>\n      <td>1923</td>\n      <td>5.0</td>\n      <td>942766515</td>\n    </tr>\n    <tr>\n      <th>773</th>\n      <td>10</td>\n      <td>2108</td>\n      <td>3.0</td>\n      <td>942766472</td>\n    </tr>\n    <tr>\n      <th>774</th>\n      <td>10</td>\n      <td>2344</td>\n      <td>5.0</td>\n      <td>942766991</td>\n    </tr>\n    <tr>\n      <th>775</th>\n      <td>10</td>\n      <td>2406</td>\n      <td>4.0</td>\n      <td>942767328</td>\n    </tr>\n    <tr>\n      <th>776</th>\n      <td>10</td>\n      <td>2410</td>\n      <td>2.0</td>\n      <td>942767328</td>\n    </tr>\n    <tr>\n      <th>777</th>\n      <td>10</td>\n      <td>2539</td>\n      <td>4.0</td>\n      <td>942766845</td>\n    </tr>\n    <tr>\n      <th>778</th>\n      <td>10</td>\n      <td>2571</td>\n      <td>5.0</td>\n      <td>942766515</td>\n    </tr>\n    <tr>\n      <th>779</th>\n      <td>10</td>\n      <td>2826</td>\n      <td>5.0</td>\n      <td>942766109</td>\n    </tr>\n    <tr>\n      <th>780</th>\n      <td>10</td>\n      <td>2827</td>\n      <td>3.0</td>\n      <td>942766251</td>\n    </tr>\n    <tr>\n      <th>781</th>\n      <td>10</td>\n      <td>2840</td>\n      <td>3.0</td>\n      <td>942766213</td>\n    </tr>\n    <tr>\n      <th>782</th>\n      <td>10</td>\n      <td>2841</td>\n      <td>4.0</td>\n      <td>942766029</td>\n    </tr>\n    <tr>\n      <th>783</th>\n      <td>10</td>\n      <td>2881</td>\n      <td>3.0</td>\n      <td>942766164</td>\n    </tr>\n    <tr>\n      <th>784</th>\n      <td>10</td>\n      <td>2890</td>\n      <td>4.0</td>\n      <td>942765978</td>\n    </tr>\n    <tr>\n      <th>785</th>\n      <td>10</td>\n      <td>2907</td>\n      <td>2.0</td>\n      <td>942766213</td>\n    </tr>\n    <tr>\n      <th>786</th>\n      <td>10</td>\n      <td>2926</td>\n      <td>5.0</td>\n      <td>942767121</td>\n    </tr>\n    <tr>\n      <th>787</th>\n      <td>10</td>\n      <td>2995</td>\n      <td>2.0</td>\n      <td>942766251</td>\n    </tr>\n    <tr>\n      <th>788</th>\n      <td>10</td>\n      <td>3005</td>\n      <td>3.0</td>\n      <td>942766059</td>\n    </tr>\n    <tr>\n      <th>789</th>\n      <td>10</td>\n      <td>3019</td>\n      <td>4.0</td>\n      <td>942767571</td>\n    </tr>\n  </tbody>\n</table>\n</div>"
     },
     "execution_count": 18,
     "metadata": {},
     "output_type": "execute_result"
    }
   ],
   "source": [
    "ratings[ratings['userId'] == 10]"
   ]
  },
  {
   "cell_type": "code",
   "execution_count": 19,
   "metadata": {},
   "outputs": [],
   "source": [
    "# smaller link file reload \n",
    "links_df = pd.read_csv('Dataset/links_small.csv')\n",
    "col=np.array(links_df['tmdbId'], np.int64)\n",
    "links_df['tmdbId']=col\n",
    "\n",
    "links_df = links_df.merge(meta[['title', 'tmdbId']], on='tmdbId').set_index('title')\n",
    "links_index = links_df.set_index('tmdbId') "
   ]
  },
  {
   "cell_type": "code",
   "execution_count": 20,
   "metadata": {
    "jupyter": {
     "outputs_hidden": false
    },
    "pycharm": {
     "name": "#%%\n"
    }
   },
   "outputs": [],
   "source": [
    "def hybrid(userId, title):\n",
    "    idx = indices[title]\n",
    "    tmdbId = links_df.loc[title]['tmdbId'] # Get the corresponding tmdb id\n",
    "    \n",
    "    sim_scores = list(enumerate(cosine_sim[idx]))\n",
    "    sim_scores = sorted(sim_scores, key=lambda x: x[1], reverse=True)\n",
    "    sim_scores = sim_scores[1:31] # Scores of 30 similar movies\n",
    "    movie_indices = [i[0] for i in sim_scores]\n",
    "    \n",
    "    movies = meta.iloc[movie_indices][['title', 'vote_average', 'tmdbId']]\n",
    "    movies['est'] = movies['tmdbId'].apply(lambda x: svd.predict(userId, links_index.loc[x]['movieId']).est) # Estimated prediction using svd\n",
    "    movies = movies.sort_values('est', ascending=False) # Rank movies according to the predicted values\n",
    "    movies.columns = ['Title', 'Vote Average', 'TMDb Id', 'Estimated Prediction']\n",
    "    return movies.head(30) # Display top 30 recommended movies"
   ]
  },
  {
   "cell_type": "code",
   "execution_count": 28,
   "metadata": {},
   "outputs": [
    {
     "name": "stdout",
     "output_type": "stream",
     "text": [
      "data getting passed in contextual\n",
      "                                        Title  Vote Average  TMDb Id  \\\n",
      "6909                          The Dark Knight           8.3      155   \n",
      "8238  Batman: The Dark Knight Returns, Part 2           7.9   142061   \n",
      "6937                                 Iron Man           7.4     1726   \n",
      "2581             Batman: Mask of the Phantasm           7.4    14919   \n",
      "7284          Gangster's Paradise: Jerusalema           6.8    22600   \n",
      "8144                        Seven Psychopaths           6.7    86838   \n",
      "7941                    The Dark Knight Rises           7.6    49026   \n",
      "4524                     Bang the Drum Slowly           6.3    42459   \n",
      "8175  Batman: The Dark Knight Returns, Part 1           7.7   123025   \n",
      "7911                         Batman: Year One           7.1    69735   \n",
      "9063                               I Am Wrath           4.5   332411   \n",
      "7392                                   Shrink           6.1    22640   \n",
      "7575               Batman: Under the Red Hood           7.6    40662   \n",
      "9022                  A Very Murray Christmas           5.2   364067   \n",
      "8763             Star Wars: The Force Awakens           7.5   140607   \n",
      "1964                      Armed and Dangerous           5.3     2620   \n",
      "7498                                 Defendor           6.5    34769   \n",
      "1788                         The Seventh Sign           5.9    11082   \n",
      "5946                Ong-Bak: The Thai Warrior           7.0     9316   \n",
      "8761                             Wicked Blood           5.3   256740   \n",
      "6927                              Speed Racer           5.7     7459   \n",
      "4608                           Bruce Almighty           6.4      310   \n",
      "8025                             The Big Bang           5.5    54271   \n",
      "524                                    Batman           7.0      268   \n",
      "8700    The Hunger Games: Mockingjay - Part 1           6.6   131631   \n",
      "1116                           Batman Returns           6.6      364   \n",
      "2700                 Harry and the Hendersons           5.6     8989   \n",
      "132                            Batman Forever           5.2      414   \n",
      "8922       Batman v Superman: Dawn of Justice           5.7   209112   \n",
      "1242                           Batman & Robin           4.2      415   \n",
      "\n",
      "      Estimated Prediction  \n",
      "6909              4.073839  \n",
      "8238              4.041178  \n",
      "6937              3.940600  \n",
      "2581              3.922739  \n",
      "7284              3.890502  \n",
      "8144              3.861605  \n",
      "7941              3.814798  \n",
      "4524              3.735620  \n",
      "8175              3.725093  \n",
      "7911              3.666710  \n",
      "9063              3.606244  \n",
      "7392              3.571628  \n",
      "7575              3.499727  \n",
      "9022              3.446856  \n",
      "8763              3.439217  \n",
      "1964              3.426010  \n",
      "7498              3.423912  \n",
      "1788              3.403284  \n",
      "5946              3.351003  \n",
      "8761              3.350035  \n",
      "6927              3.309655  \n",
      "4608              3.306126  \n",
      "8025              3.283869  \n",
      "524               3.266457  \n",
      "8700              3.197951  \n",
      "1116              3.106164  \n",
      "2700              2.962585  \n",
      "132               2.911412  \n",
      "8922              2.902004  \n",
      "1242              2.551125  \n"
     ]
    }
   ],
   "source": [
    "hybrid(30,'The Conjuring')\n",
    "\n",
    "result = hybrid(10,'Batman Begins')\n",
    "print(\"data getting passed in contextual\")\n",
    "print(result)"
   ]
  },
  {
   "cell_type": "code",
   "execution_count": 29,
   "metadata": {
    "pycharm": {
     "name": "#%%\n"
    }
   },
   "outputs": [
    {
     "data": {
      "text/plain": "'winter'"
     },
     "execution_count": 29,
     "metadata": {},
     "output_type": "execute_result"
    }
   ],
   "source": [
    "# necessary functions for contextual_update function\n",
    "\n",
    "def day_time():\n",
    "    now = datetime.now().time()\n",
    "    morning=now.replace(hour=12,minute=0,second=0,microsecond=0)\n",
    "    afternoon=now.replace(hour=16,minute=0,second=0,microsecond=0)\n",
    "    evening=now.replace(hour=19,minute=0,second=0,microsecond=0)\n",
    "\n",
    "    if now< morning :\n",
    "        return \"morning\"\n",
    "    elif now<afternoon :\n",
    "        return \"afternoon\"\n",
    "    elif now<evening :\n",
    "        return \"evening\"\n",
    "    else :\n",
    "        return \"night\"\n",
    "\n",
    "def season():\n",
    "    month = datetime.now().month\n",
    "\n",
    "    if month < 4:\n",
    "        return \"winter\"\n",
    "    elif month <6:\n",
    "        return \"summer\"\n",
    "    elif month <9:\n",
    "        return \"rainy\"\n",
    "    elif month < 11:\n",
    "        return \"autumn\"\n",
    "    else :\n",
    "        return  \"winter\"\n",
    "\n",
    "def is_weekend():\n",
    "    day=datetime.now().isoweekday()\n",
    "    if day< 6:\n",
    "        return False\n",
    "    return True\n",
    "\n",
    "\n",
    "#testing function\n",
    "#day_time()\n",
    "season()"
   ]
  },
  {
   "cell_type": "code",
   "execution_count": 30,
   "metadata": {
    "pycharm": {
     "name": "#%%\n"
    }
   },
   "outputs": [],
   "source": [
    "# Function to include movies on specific dates -\n",
    "def special_date(recommended_list,date_passed):\n",
    "    print(\"special date function reached\")\n",
    "    date_event = datetime.now().date()\n",
    "\n",
    "    # Independence Day\n",
    "    date_event=date_event.replace(month=8,day=15)\n",
    "    new_list=recommended_list.copy()\n",
    "    if date_event == date_passed:\n",
    "        # Vote Average  TMDb Id  Estimated Prediction\n",
    "        new_movie = pd.DataFrame({\"Title\":[\"Border\",\"Uri:The Surgical Strike\"],\n",
    "                                  \"Vote Average\":[6.8,7.1],\n",
    "                                  \"TMDb Id\":[33125,554600],\n",
    "                                  \"Estimated Prediction\":[5.0,5.0],\n",
    "                                  \"tmdbId\":[33125,554600],\n",
    "                                  \"genres\":[\"[{'name':'Action'},{'name':'History'},{'name':'War'}]\",\"[{'name':'Action'},{'name':'Drama'},{'name':'War'}]\"]\n",
    "                                  })\n",
    "        new_list = pd.concat([new_movie,recommended_list])\n",
    "    #Repubic Day\n",
    "    date_event=date_event.replace(month=1,day=26)\n",
    "    if date_event == date_passed:\n",
    "        new_movie = pd.DataFrame({\"Title\":[\"Shaheed\",\"Border\",\"Uri:The Surgical Strike\"],\n",
    "                                  \"Vote Average\":[5.0,6.8,7.1],\n",
    "                                  \"TMDb Id\":[498713,33125,554600],\n",
    "                                  \"Estimated Prediction\":[5.0,5.0,5.0],\n",
    "                                  \"tmdbId\":[498713,33125,554600],\n",
    "                                  \"genres\":[\"[{'name':'War'},{'name':'History'}]\",\"[{'name':'Action'},{'name':'History'},{'name:'War'}]\",\"[{'name':'Action'},{'name':'Drama'},{'name':'War'}]\"]\n",
    "                                  })\n",
    "        new_list = pd.concat([new_movie,recommended_list])\n",
    "    #Teachers Day\n",
    "    date_event=date_event.replace(month=9,day=5)\n",
    "    if date_event == date_passed:\n",
    "        new_movie = pd.DataFrame({\"Title\":[\"Super 30\",\"Taare Zameen Par\"],\n",
    "                                  \"Vote Average\":[7.6,8.0],\n",
    "                                  \"TMDb Id\":[534075,7508],\n",
    "                                  \"Estimated Prediction\":[5.0,5.0],\n",
    "                                  \"tmdbId\":[534075,7508],\n",
    "                                  \"genres\":[\"[{'name':'Drama'}]\",\"[{'name':'Drama'}]\"]\n",
    "                                  })\n",
    "        new_list = pd.concat([new_movie,recommended_list])\n",
    "    #Children day\n",
    "    date_event=date_event.replace(month=11,day=14)\n",
    "    if date_event == date_passed:\n",
    "        new_movie = pd.DataFrame({\"Title\":[\"Taare Zameen Par\",\"Chillar Party\"],\n",
    "                                  \"Vote Average\":[8.0,6.9],\n",
    "                                  \"TMDb Id\":[7508,69891],\n",
    "                                  \"Estimated Prediction\":[5.0,5.0],\n",
    "                                  \"tmdbId\":[7508,69891],\n",
    "                                  \"genres\":[\"[{'name':'Drama'}]\",\"[{'name':'Drama'},{'name':'Comedy'},{'name':'Family'}]\"]\n",
    "                                  })\n",
    "        new_list = pd.concat([new_movie,recommended_list])\n",
    "    #Christmas\n",
    "    date_event=date_event.replace(month=12,day=25)\n",
    "    if date_event == date_passed:\n",
    "        new_movie = pd.DataFrame({\"Title\":[\"Let It Snow\",\"Home Alone\"],\n",
    "                                  \"Vote Average\":[6.1,7.3],\n",
    "                                  \"TMDb Id\":[295151,771],\n",
    "                                  \"Estimated Prediction\":[5.0,5.0],\n",
    "                                  \"tmdbId\":[295151,771],\n",
    "                                  \"genres\":[\"[{'name':'Romance'},{'name':'Comedy'}]\",\"[{'name':'Comedy'},{'name':'Family'}]\"]\n",
    "                                  })\n",
    "        new_list = pd.concat([new_movie,recommended_list])\n",
    "    #New Year\n",
    "    date_event=date_event.replace(month=12,day=31)\n",
    "    if date_event == date_passed:\n",
    "        new_movie = pd.DataFrame({\"Title\":[\"New Years Eve\"],\n",
    "                                  \"Vote Average\":[5.9],\n",
    "                                  \"TMDb Id\":[62838],\n",
    "                                  \"Estimated Prediction\":[5.0],\n",
    "                                  \"tmdbId\":[62838],\n",
    "                                  \"genres\":[\"[{'name':'Comedy'},{'name':'Romance'}]\"]\n",
    "                                  })\n",
    "        new_list = pd.concat([new_movie,recommended_list])\n",
    "    date_event=date_event.replace(month=1,day=1)\n",
    "    if date_event == date_passed:\n",
    "        new_movie = pd.DataFrame({\"Title\":[\"New Years Eve\"],\n",
    "                                  \"Vote Average\":[5.9],\n",
    "                                  \"TMDb Id\":[62838],\n",
    "                                  \"Estimated Prediction\":[5.0],\n",
    "                                  \"tmdbId\":[62838],\n",
    "                                  \"genres\":[\"[{'name':'Comedy'},{'name':'Romance'}]\"]\n",
    "                                  })\n",
    "        new_list = pd.concat([new_movie,recommended_list])\n",
    "    #Valentine\n",
    "    date_event=date_event.replace(month=2,day=14)\n",
    "    if date_event == date_passed:\n",
    "        new_movie = pd.DataFrame({\"Title\":[\"The Notebook\",\"Titanic\"],\n",
    "                                  \"Vote Average\":[7.9,7.9],\n",
    "                                  \"TMDb Id\":[11036,597],\n",
    "                                  \"Estimated Prediction\":[5.0,5.0],\n",
    "                                  \"tmdbId\":[11036,597],\n",
    "                                  \"genres\":[\"[{'name':'Romance'},{'name':'Drama'}]\",\"[{'name':'Drama'},{'name':'Romance'}]\"]\n",
    "                                  })\n",
    "        new_list = pd.concat([new_movie,recommended_list])\n",
    "    \n",
    "    return new_list\n"
   ]
  },
  {
   "cell_type": "code",
   "execution_count": 31,
   "metadata": {
    "pycharm": {
     "name": "#%%\n"
    }
   },
   "outputs": [],
   "source": [
    "def recommendation_updater(recommended_list,genre_score):\n",
    "    #print(\"reached recommendation updater - \")\n",
    "    new_list=recommended_list.copy()\n",
    "    for ind in recommended_list.index:\n",
    "        new_score=0\n",
    "        movie_genre= list(eval(recommended_list['genres'][ind]))\n",
    "        #print(recommended_list['genres'][ind])\n",
    "        #print(type(recommended_list['genres'][ind]))\n",
    "        #print(movie_genre)\n",
    "        curr_genre_list= [li['name'] for li in movie_genre]\n",
    "        #print(curr_genre_list)\n",
    "        for genre in curr_genre_list:\n",
    "            if genre in genre_score:\n",
    "                new_score+=genre_score[genre]\n",
    "        #print(new_score)\n",
    "        new_list['Estimated Prediction'][ind]=new_list['Estimated Prediction'][ind]+new_score\n",
    "    return new_list"
   ]
  },
  {
   "cell_type": "code",
   "execution_count": 32,
   "metadata": {
    "pycharm": {
     "name": "#%%\n"
    }
   },
   "outputs": [
    {
     "name": "stdout",
     "output_type": "stream",
     "text": [
      "Before Context-Awareness based changes - \n",
      "                                        Title  Vote Average  TMDb Id  \\\n",
      "6909                          The Dark Knight           8.3      155   \n",
      "8238  Batman: The Dark Knight Returns, Part 2           7.9   142061   \n",
      "6937                                 Iron Man           7.4     1726   \n",
      "2581             Batman: Mask of the Phantasm           7.4    14919   \n",
      "7284          Gangster's Paradise: Jerusalema           6.8    22600   \n",
      "8144                        Seven Psychopaths           6.7    86838   \n",
      "7941                    The Dark Knight Rises           7.6    49026   \n",
      "4524                     Bang the Drum Slowly           6.3    42459   \n",
      "8175  Batman: The Dark Knight Returns, Part 1           7.7   123025   \n",
      "7911                         Batman: Year One           7.1    69735   \n",
      "9063                               I Am Wrath           4.5   332411   \n",
      "7392                                   Shrink           6.1    22640   \n",
      "7575               Batman: Under the Red Hood           7.6    40662   \n",
      "9022                  A Very Murray Christmas           5.2   364067   \n",
      "8763             Star Wars: The Force Awakens           7.5   140607   \n",
      "1964                      Armed and Dangerous           5.3     2620   \n",
      "7498                                 Defendor           6.5    34769   \n",
      "1788                         The Seventh Sign           5.9    11082   \n",
      "5946                Ong-Bak: The Thai Warrior           7.0     9316   \n",
      "8761                             Wicked Blood           5.3   256740   \n",
      "6927                              Speed Racer           5.7     7459   \n",
      "4608                           Bruce Almighty           6.4      310   \n",
      "8025                             The Big Bang           5.5    54271   \n",
      "524                                    Batman           7.0      268   \n",
      "8700    The Hunger Games: Mockingjay - Part 1           6.6   131631   \n",
      "1116                           Batman Returns           6.6      364   \n",
      "2700                 Harry and the Hendersons           5.6     8989   \n",
      "132                            Batman Forever           5.2      414   \n",
      "8922       Batman v Superman: Dawn of Justice           5.7   209112   \n",
      "1242                           Batman & Robin           4.2      415   \n",
      "\n",
      "      Estimated Prediction  \n",
      "6909              4.073839  \n",
      "8238              4.041178  \n",
      "6937              3.940600  \n",
      "2581              3.922739  \n",
      "7284              3.890502  \n",
      "8144              3.861605  \n",
      "7941              3.814798  \n",
      "4524              3.735620  \n",
      "8175              3.725093  \n",
      "7911              3.666710  \n",
      "9063              3.606244  \n",
      "7392              3.571628  \n",
      "7575              3.499727  \n",
      "9022              3.446856  \n",
      "8763              3.439217  \n",
      "1964              3.426010  \n",
      "7498              3.423912  \n",
      "1788              3.403284  \n",
      "5946              3.351003  \n",
      "8761              3.350035  \n",
      "6927              3.309655  \n",
      "4608              3.306126  \n",
      "8025              3.283869  \n",
      "524               3.266457  \n",
      "8700              3.197951  \n",
      "1116              3.106164  \n",
      "2700              2.962585  \n",
      "132               2.911412  \n",
      "8922              2.902004  \n",
      "1242              2.551125  \n",
      "special date function reached\n",
      "                                      Title  Vote Average  TMDb Id  \\\n",
      "1                   Uri:The Surgical Strike           7.1   554600   \n",
      "0                                    Border           6.8    33125   \n",
      "2                           The Dark Knight           8.3      155   \n",
      "8                     The Dark Knight Rises           7.6    49026   \n",
      "12                               I Am Wrath           4.5   332411   \n",
      "6           Gangster's Paradise: Jerusalema           6.8    22600   \n",
      "18                                 Defendor           6.5    34769   \n",
      "11                         Batman: Year One           7.1    69735   \n",
      "7                         Seven Psychopaths           6.7    86838   \n",
      "4                                  Iron Man           7.4     1726   \n",
      "17                      Armed and Dangerous           5.3     2620   \n",
      "3   Batman: The Dark Knight Returns, Part 2           7.9   142061   \n",
      "21                             Wicked Blood           5.3   256740   \n",
      "5              Batman: Mask of the Phantasm           7.4    14919   \n",
      "13                                   Shrink           6.1    22640   \n",
      "16             Star Wars: The Force Awakens           7.5   140607   \n",
      "10  Batman: The Dark Knight Returns, Part 1           7.7   123025   \n",
      "20                Ong-Bak: The Thai Warrior           7.0     9316   \n",
      "9                      Bang the Drum Slowly           6.3    42459   \n",
      "24                             The Big Bang           5.5    54271   \n",
      "22                              Speed Racer           5.7     7459   \n",
      "26    The Hunger Games: Mockingjay - Part 1           6.6   131631   \n",
      "15                  A Very Murray Christmas           5.2   364067   \n",
      "14               Batman: Under the Red Hood           7.6    40662   \n",
      "19                         The Seventh Sign           5.9    11082   \n",
      "23                           Bruce Almighty           6.4      310   \n",
      "25                                   Batman           7.0      268   \n",
      "29                           Batman Forever           5.2      414   \n",
      "27                           Batman Returns           6.6      364   \n",
      "28                 Harry and the Hendersons           5.6     8989   \n",
      "30       Batman v Superman: Dawn of Justice           5.7   209112   \n",
      "31                           Batman & Robin           4.2      415   \n",
      "\n",
      "    Estimated Prediction  \n",
      "1               4.780625  \n",
      "0               4.540625  \n",
      "2               4.533214  \n",
      "8               4.274173  \n",
      "12              4.065619  \n",
      "6               4.010502  \n",
      "18              3.900162  \n",
      "11              3.839210  \n",
      "7               3.807230  \n",
      "4               3.773725  \n",
      "17              3.662260  \n",
      "3               3.581803  \n",
      "21              3.470035  \n",
      "5               3.463364  \n",
      "13              3.417878  \n",
      "16              3.272342  \n",
      "10              3.265718  \n",
      "20              3.231003  \n",
      "9               3.225620  \n",
      "24              3.163869  \n",
      "22              3.142780  \n",
      "26              3.079826  \n",
      "15              3.053106  \n",
      "14              3.040352  \n",
      "19              2.992659  \n",
      "23              2.912376  \n",
      "25              2.807082  \n",
      "29              2.791412  \n",
      "27              2.646789  \n",
      "28              2.568835  \n",
      "30              2.442629  \n",
      "31              2.431125  \n"
     ]
    },
    {
     "name": "stderr",
     "output_type": "stream",
     "text": [
      "<ipython-input-31-912d3540313e>:16: SettingWithCopyWarning: \n",
      "A value is trying to be set on a copy of a slice from a DataFrame\n",
      "\n",
      "See the caveats in the documentation: https://pandas.pydata.org/pandas-docs/stable/user_guide/indexing.html#returning-a-view-versus-a-copy\n",
      "  new_list['Estimated Prediction'][ind]=new_list['Estimated Prediction'][ind]+new_score\n"
     ]
    }
   ],
   "source": [
    "\n",
    "def contextual_update(list_passed,family=False,device=\"Mobile\",no_of_people=1,date_passed=datetime.now().date()) :\n",
    "    # categories we have romance,action,comedy,drama ,crime and thriller ,documentary,sci-fi\n",
    "    recommended_list=list_passed.copy()\n",
    "    print(\"Before Context-Awareness based changes - \")\n",
    "    print(list_passed)\n",
    "\n",
    "    # Adding Genres for update\n",
    "    recommended_list = pd.merge(recommended_list,meta[['tmdbId','genres']],left_on=['TMDb Id'],right_on=['tmdbId']).dropna()\n",
    "\n",
    "    # Special Days\n",
    "    test_date=datetime.now().date()\n",
    "    test_date=test_date.replace(month=8,day=15)\n",
    "    recommended_list=special_date(recommended_list,test_date)\n",
    "    recommended_list.reset_index(drop=True,inplace=True)\n",
    "\n",
    "    # Reducing score to take account for contextual_update\n",
    "\n",
    "    effect_rate = 0.75\n",
    "    category=4\n",
    "    recommended_list['Estimated Prediction']=recommended_list['Estimated Prediction']-effect_rate\n",
    "\n",
    "\n",
    "    # Timing based\n",
    "\n",
    "    day_part = day_time()\n",
    "    if day_part == \"morning\":\n",
    "        scores={\n",
    "        'Romance':0.24*(effect_rate/category),'Action':0.18*(effect_rate/category),'Comedy':0.64*(effect_rate/category),'Drama':0.24*(effect_rate/category),'Crime':0.17*(effect_rate/category)\n",
    "        ,'Thriller':0.17*(effect_rate/category),'Documentary':0.25*(effect_rate/category),'Science Fiction':0.28*(effect_rate/category)\n",
    "        }\n",
    "    elif day_part ==\"afternoon\":\n",
    "        scores ={\n",
    "           'Romance':0.18*(effect_rate/category),'Action':0.44*(effect_rate/category),'Comedy':0.48*(effect_rate/category),'Drama':0.35*(effect_rate/category),'Crime':0.5*(effect_rate/category)\n",
    "        ,'Thriller':0.5*(effect_rate/category),'Documentary':0.24*(effect_rate/category),'Science Fiction':0.35*(effect_rate/category)\n",
    "        }\n",
    "    elif day_part ==\"evening\":\n",
    "        scores={\n",
    "        'Romance':0.4*(effect_rate/category),'Action':0.34*(effect_rate/category),'Comedy':0.48*(effect_rate/category),'Drama':0.3*(effect_rate/category),'Crime':0.4*(effect_rate/category)\n",
    "        ,'Thriller':0.4*(effect_rate/category),'Documentary':0.24*(effect_rate/category),'Science Fiction':0.32*(effect_rate/category)\n",
    "        }\n",
    "    else :\n",
    "        scores={\n",
    "        'Romance':0.57*(effect_rate/category),'Action':0.37*(effect_rate/category),'Comedy':0.42*(effect_rate/category),'Drama':0.37*(effect_rate/category),'Crime':0.54*(effect_rate/category)\n",
    "        ,'Thriller':0.54*(effect_rate/category),'Documentary':0.31*(effect_rate/category),'Science Fiction':0.41*(effect_rate/category)\n",
    "        }\n",
    "    recommended_list=recommendation_updater(recommended_list,scores)\n",
    "\n",
    "    # Season based\n",
    "    curr_season = season()\n",
    "    if curr_season == \"summer\":\n",
    "        scores={\n",
    "        'Romance':0.32*(effect_rate/category),'Action':0.48*(effect_rate/category),'Comedy':0.57*(effect_rate/category),'Drama':0.5*(effect_rate/category),'Crime':0.6*(effect_rate/category)\n",
    "        ,'Thriller':0.6*(effect_rate/category),'Documentary':0.27*(effect_rate/category),'Science Fiction':0.47*(effect_rate/category)\n",
    "        }\n",
    "    elif curr_season == \"rainy\":\n",
    "        scores={\n",
    "        'Romance':0.57*(effect_rate/category),'Action':0.3*(effect_rate/category),'Comedy':0.52*(effect_rate/category),'Drama':0.5*(effect_rate/category),'Crime':0.41*(effect_rate/category)\n",
    "        ,'Thriller':0.41*(effect_rate/category),'Documentary':0.14*(effect_rate/category),'Science Fiction':0.32*(effect_rate/category)\n",
    "        }\n",
    "    elif curr_season == \"autumn\":\n",
    "        scores={\n",
    "        'Romance':0.41*(effect_rate/category),'Action':0.37*(effect_rate/category),'Comedy':0.5*(effect_rate/category),'Drama':0.48*(effect_rate/category),'Crime':0.52*(effect_rate/category)\n",
    "        ,'Thriller':0.52*(effect_rate/category),'Documentary':0.31*(effect_rate/category),'Science Fiction':0.44*(effect_rate/category)\n",
    "        }\n",
    "    else :\n",
    "        scores={\n",
    "        'Romance':0.54*(effect_rate/category),'Action':0.45*(effect_rate/category),'Comedy':0.51*(effect_rate/category),'Drama':0.42*(effect_rate/category),'Crime':0.5*(effect_rate/category)\n",
    "        ,'Thriller':0.5*(effect_rate/category),'Documentary':0.21*(effect_rate/category),'Science Fiction':0.32*(effect_rate/category)\n",
    "        }\n",
    "    recommended_list=recommendation_updater(recommended_list,scores)\n",
    "\n",
    "    # Weekday based -\n",
    "\n",
    "    if is_weekend():\n",
    "        scores={\n",
    "        'Romance':0.41*(effect_rate/category),'Action':0.48*(effect_rate/category),'Comedy':0.54*(effect_rate/category),'Drama':0.38*(effect_rate/category),'Crime':0.7*(effect_rate/category)\n",
    "        ,'Thriller':0.7*(effect_rate/category),'Documentary':0.28*(effect_rate/category),'Science Fiction':0.41*(effect_rate/category)\n",
    "        }\n",
    "    else :\n",
    "        scores={\n",
    "        'Romance':0.37*(effect_rate/category),'Action':0.32*(effect_rate/category),'Comedy':0.51*(effect_rate/category),'Drama':0.32*(effect_rate/category),'Crime':0.48*(effect_rate/category)\n",
    "        ,'Thriller':0.48*(effect_rate/category),'Documentary':0.21*(effect_rate/category),'Science Fiction':0.38*(effect_rate/category)\n",
    "        }\n",
    "\n",
    "    recommended_list=recommendation_updater(recommended_list,scores)\n",
    "\n",
    "    # Device Based\n",
    "\n",
    "    if  device == \"phone\":\n",
    "        scores={\n",
    "        'Romance':0.36*(effect_rate/category),'Action':0.24*(effect_rate/category),'Comedy':0.66*(effect_rate/category),'Drama':0.44*(effect_rate/category),'Crime':0.38*(effect_rate/category)\n",
    "        ,'Thriller':0.38*(effect_rate/category),'Documentary':0.2*(effect_rate/category),'Science Fiction':0.21*(effect_rate/category)\n",
    "        }\n",
    "    elif device ==\"tablet\":\n",
    "        scores={\n",
    "        'Romance':0.34*(effect_rate/category),'Action':0.37*(effect_rate/category),'Comedy':0.43*(effect_rate/category),'Drama':0.43*(effect_rate/category),'Crime':0.42*(effect_rate/category)\n",
    "        ,'Thriller':0.42*(effect_rate/category),'Documentary':0.22*(effect_rate/category),'Science Fiction':0.36*(effect_rate/category)\n",
    "        }\n",
    "    else :\n",
    "        scores={\n",
    "        'Romance':0.33*(effect_rate/category),'Action':0.6*(effect_rate/category),'Comedy':0.24*(effect_rate/category),'Drama':0.3*(effect_rate/category),'Crime':0.66*(effect_rate/category)\n",
    "        ,'Thriller':0.66*(effect_rate/category),'Documentary':0.21*(effect_rate/category),'Science Fiction':0.58*(effect_rate/category)\n",
    "        }\n",
    "    recommended_list=recommendation_updater(recommended_list,scores)\n",
    "\n",
    "    # Based on Number of people and Family -\n",
    "\n",
    "    if no_of_people >1 :\n",
    "        if family:\n",
    "            scores={\n",
    "            'Romance':0.1*(effect_rate/category),'Action':0.43*(effect_rate/category),'Comedy':0.66*(effect_rate/category),'Drama':0.49*(effect_rate/category),'Crime':0.26*(effect_rate/category)\n",
    "        ,'Thriller':0.26*(effect_rate/category),'Documentary':0.36*(effect_rate/category),'Science Fiction':0.29*(effect_rate/category)\n",
    "        }\n",
    "        else :\n",
    "            scores={\n",
    "        'Romance':0.33*(effect_rate/category),'Action':0.63*(effect_rate/category),'Comedy':0.54*(effect_rate/category),'Drama':0.33*(effect_rate/category),'Crime':0.61*(effect_rate/category)\n",
    "        ,'Thriller':0.61*(effect_rate/category),'Documentary':0.17*(effect_rate/category),'Science Fiction':0.54*(effect_rate/category)\n",
    "        }\n",
    "\n",
    "        recommended_list=recommendation_updater(recommended_list,scores)\n",
    "\n",
    "    # removing genre from table\n",
    "\n",
    "    recommended_list.drop(['tmdbId','genres'],axis=1,inplace=True)\n",
    "\n",
    "    # Sorting the list for final result and comparing\n",
    "    #print(list_passed)\n",
    "    recommended_list.sort_values(by='Estimated Prediction',ascending=False,inplace=True)\n",
    "    print(recommended_list)\n",
    "\n",
    "contextual_update(result)\n"
   ]
  },
  {
   "cell_type": "code",
   "execution_count": null,
   "metadata": {
    "pycharm": {
     "name": "#%%\n"
    }
   },
   "outputs": [],
   "source": []
  },
  {
   "cell_type": "code",
   "execution_count": null,
   "metadata": {
    "pycharm": {
     "name": "#%%\n"
    }
   },
   "outputs": [],
   "source": [
    "\n"
   ]
  }
 ],
 "metadata": {
  "kernelspec": {
   "display_name": "Python 3",
   "language": "python",
   "name": "python3"
  },
  "language_info": {
   "codemirror_mode": {
    "name": "ipython",
    "version": 3
   },
   "file_extension": ".py",
   "mimetype": "text/x-python",
   "name": "python",
   "nbconvert_exporter": "python",
   "pygments_lexer": "ipython3",
   "version": "3.8.5"
  },
  "pycharm": {
   "stem_cell": {
    "cell_type": "raw",
    "source": [
     "#Hybrid Recommender"
    ],
    "metadata": {
     "collapsed": false
    }
   }
  }
 },
 "nbformat": 4,
 "nbformat_minor": 4
}